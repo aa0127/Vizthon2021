{
 "cells": [
  {
   "cell_type": "code",
   "execution_count": 184,
   "id": "29c5de79",
   "metadata": {},
   "outputs": [
    {
     "data": {
      "application/vnd.plotly.v1+json": {
       "config": {
        "plotlyServerURL": "https://plot.ly"
       },
       "data": [
        {
         "geo": "geo",
         "hovertemplate": "<b>%{hovertext}</b><br><br>Mean Years of Education=%{marker.size}<br>3 Letter Code=%{location}<br>Life Expectancy at Birth=%{marker.color}<extra></extra>",
         "hovertext": [
          "Norway",
          "Australia",
          "Switzerland",
          "Denmark",
          "Netherlands",
          "Germany",
          "Ireland",
          "United States",
          "Canada",
          "New Zealand",
          "Singapore",
          "Hong Kong, China (SAR)",
          "Liechtenstein",
          "Sweden",
          "United Kingdom",
          "Iceland",
          "Korea (Republic of)",
          "Israel",
          "Luxembourg",
          "Japan",
          "Belgium",
          "France",
          "Austria",
          "Finland",
          "Slovenia",
          "Spain",
          "Italy",
          "Czech Republic",
          "Greece",
          "Estonia",
          "Brunei Darussalam",
          "Cyprus",
          "Qatar",
          "Andorra",
          "Slovakia",
          "Poland",
          "Lithuania",
          "Malta",
          "Saudi Arabia",
          "Argentina",
          "United Arab Emirates",
          "Chile",
          "Portugal",
          "Hungary",
          "Bahrain",
          "Latvia",
          "Croatia",
          "Kuwait",
          "Montenegro",
          "Belarus",
          "Russian Federation",
          "Oman",
          "Romania",
          "Uruguay",
          "Bahamas",
          "Kazakhstan",
          "Barbados",
          "Antigua and Barbuda",
          "Bulgaria",
          "Palau",
          "Panama",
          "Malaysia",
          "Mauritius",
          "Seychelles",
          "Trinidad and Tobago",
          "Serbia",
          "Cuba",
          "Lebanon",
          "Costa Rica",
          "Iran (Islamic Republic of)",
          "Venezuela (Bolivarian Republic of)",
          "Turkey",
          "Sri Lanka",
          "Mexico",
          "Brazil",
          "Georgia",
          "Saint Kitts and Nevis",
          "Azerbaijan",
          "Grenada",
          "Jordan",
          "The former Yugoslav Republic of Macedonia",
          "Ukraine",
          "Algeria",
          "Peru",
          "Albania",
          "Armenia",
          "Bosnia and Herzegovina",
          "Ecuador",
          "Saint Lucia",
          "China",
          "Fiji",
          "Mongolia",
          "Thailand",
          "Dominica",
          "Libya",
          "Tunisia",
          "Colombia",
          "Saint Vincent and the Grenadines",
          "Jamaica",
          "Tonga",
          "Belize",
          "Dominican Republic",
          "Suriname",
          "Maldives",
          "Samoa",
          "Botswana",
          "Moldova (Republic of)",
          "Egypt",
          "Turkmenistan",
          "Gabon",
          "Indonesia",
          "Paraguay",
          "Palestine, State of",
          "Uzbekistan",
          "Philippines",
          "El Salvador",
          "South Africa",
          "Viet Nam",
          "Bolivia (Plurinational State of)",
          "Kyrgyzstan",
          "Iraq",
          "Cabo Verde",
          "Micronesia (Federated States of)",
          "Guyana",
          "Nicaragua",
          "Morocco",
          "Namibia",
          "Guatemala",
          "Tajikistan",
          "India",
          "Honduras",
          "Bhutan",
          "Timor-Leste",
          "Syrian Arab Republic",
          "Vanuatu",
          "Congo",
          "Kiribati",
          "Equatorial Guinea",
          "Zambia",
          "Ghana",
          "Lao People's Democratic Republic",
          "Bangladesh",
          "Cambodia",
          "Sao Tome and Principe",
          "Kenya",
          "Nepal",
          "Pakistan",
          "Myanmar",
          "Angola",
          "Swaziland",
          "Tanzania (United Republic of)",
          "Nigeria",
          "Cameroon",
          "Madagascar",
          "Zimbabwe",
          "Mauritania",
          "Solomon Islands",
          "Papua New Guinea",
          "Comoros",
          "Yemen",
          "Lesotho",
          "Togo",
          "Haiti",
          "Rwanda",
          "Uganda",
          "Benin",
          "Sudan",
          "Djibouti",
          "South Sudan",
          "Senegal",
          "Afghanistan",
          "Côte d'Ivoire",
          "Malawi",
          "Ethiopia",
          "Gambia",
          "Congo (Democratic Republic of the)",
          "Liberia",
          "Guinea-Bissau",
          "Mali",
          "Mozambique",
          "Sierra Leone",
          "Guinea",
          "Burkina Faso",
          "Burundi",
          "Chad",
          "Eritrea",
          "Central African Republic",
          "Niger",
          "Arab States",
          "East Asia and the Pacific",
          "Europe and Central Asia",
          "Latin America and the Caribbean",
          "South Asia",
          "Sub-Saharan Africa",
          "World"
         ],
         "legendgroup": "",
         "locations": [
          "NOR",
          "AUS",
          "CHE",
          "DNK",
          "NLD",
          "DEU",
          "IRL",
          "USA",
          "CAN",
          "NZL",
          "SGP",
          "None",
          "LIE",
          "SWE",
          "GBR",
          "ISL",
          "None",
          "ISR",
          "LUX",
          "JPN",
          "BEL",
          "FRA",
          "AUT",
          "FIN",
          "SVN",
          "ESP",
          "ITA",
          "None",
          "GRC",
          "EST",
          "BRN",
          "CYP",
          "QAT",
          "AND",
          "SVK",
          "POL",
          "LTU",
          "MLT",
          "SAU",
          "ARG",
          "ARE",
          "CHL",
          "PRT",
          "HUN",
          "BHR",
          "LVA",
          "HRV",
          "KWT",
          "MNE",
          "BLR",
          "RUS",
          "OMN",
          "ROU",
          "URY",
          "BHS",
          "KAZ",
          "BRB",
          "ATG",
          "BGR",
          "PLW",
          "PAN",
          "MYS",
          "MUS",
          "SYC",
          "TTO",
          "SRB",
          "CUB",
          "LBN",
          "CRI",
          "None",
          "None",
          "TUR",
          "LKA",
          "MEX",
          "BRA",
          "GEO",
          "KNA",
          "AZE",
          "GRD",
          "JOR",
          "None",
          "UKR",
          "DZA",
          "PER",
          "ALB",
          "ARM",
          "BIH",
          "ECU",
          "LCA",
          "CHN",
          "FJI",
          "MNG",
          "THA",
          "DMA",
          "LBY",
          "TUN",
          "COL",
          "VCT",
          "JAM",
          "TON",
          "BLZ",
          "DOM",
          "SUR",
          "MDV",
          "WSM",
          "BWA",
          "None",
          "EGY",
          "TKM",
          "GAB",
          "IDN",
          "PRY",
          "PSE",
          "UZB",
          "PHL",
          "SLV",
          "ZAF",
          "VNM",
          "None",
          "KGZ",
          "IRQ",
          "CPV",
          "None",
          "GUY",
          "NIC",
          "MAR",
          "NAM",
          "GTM",
          "TJK",
          "IND",
          "HND",
          "BTN",
          "TLS",
          "SYR",
          "VUT",
          "COG",
          "KIR",
          "GNQ",
          "ZMB",
          "GHA",
          "LAO",
          "BGD",
          "KHM",
          "STP",
          "KEN",
          "NPL",
          "PAK",
          "MMR",
          "AGO",
          "None",
          "None",
          "NGA",
          "CMR",
          "MDG",
          "ZWE",
          "MRT",
          "SLB",
          "PNG",
          "COM",
          "YEM",
          "LSO",
          "TGO",
          "HTI",
          "RWA",
          "UGA",
          "BEN",
          "SDN",
          "DJI",
          "SSD",
          "SEN",
          "AFG",
          "CIV",
          "MWI",
          "ETH",
          "GMB",
          "None",
          "LBR",
          "GNB",
          "MLI",
          "MOZ",
          "SLE",
          "GIN",
          "BFA",
          "BDI",
          "TCD",
          "ERI",
          "CAF",
          "NER",
          "None",
          "None",
          "None",
          "None",
          "None",
          "None",
          "None"
         ],
         "marker": {
          "color": [
           81.6,
           82.4,
           83,
           80.2,
           81.6,
           80.9,
           80.9,
           79.1,
           82,
           81.8,
           83,
           84,
           80,
           82.2,
           80.7,
           82.6,
           81.9,
           82.4,
           81.7,
           83.5,
           80.8,
           82.2,
           81.4,
           80.8,
           80.4,
           82.6,
           83.1,
           78.6,
           80.9,
           76.8,
           78.8,
           80.2,
           78.2,
           81.3,
           76.3,
           77.4,
           73.3,
           80.6,
           74.3,
           76.3,
           77,
           81.7,
           80.9,
           75.2,
           76.6,
           74.2,
           77.3,
           74.4,
           76.2,
           71.3,
           70.1,
           76.8,
           74.7,
           77.2,
           75.4,
           69.4,
           75.6,
           76.1,
           74.2,
           72.7,
           77.6,
           74.7,
           74.4,
           73.1,
           70.4,
           74.9,
           79.4,
           79.3,
           79.4,
           75.4,
           74.2,
           75.3,
           74.9,
           76.8,
           74.5,
           74.9,
           73.8,
           70.8,
           73.4,
           74,
           75.4,
           71,
           74.8,
           74.6,
           77.8,
           74.7,
           76.5,
           75.9,
           75.1,
           75.8,
           70,
           69.4,
           74.4,
           77.8,
           71.6,
           74.8,
           74,
           72.9,
           75.7,
           72.8,
           70,
           73.5,
           71.1,
           76.8,
           73.4,
           64.5,
           71.6,
           71.1,
           65.6,
           64.4,
           68.9,
           72.9,
           72.9,
           68.4,
           68.2,
           73,
           57.4,
           75.8,
           68.3,
           70.6,
           69.4,
           73.3,
           69.1,
           66.4,
           74.9,
           74,
           64.8,
           71.8,
           69.4,
           68,
           73.1,
           69.5,
           68.2,
           69.6,
           71.9,
           62.3,
           66,
           57.6,
           60.1,
           61.4,
           66.2,
           71.6,
           68.4,
           66.5,
           61.6,
           69.6,
           66.2,
           65.9,
           52.3,
           49,
           65,
           52.8,
           55.5,
           65.1,
           57.5,
           63.1,
           67.9,
           62.6,
           63.3,
           63.8,
           49.8,
           59.7,
           62.8,
           64.2,
           58.5,
           59.6,
           63.5,
           62,
           55.7,
           66.5,
           60.4,
           51.5,
           62.8,
           64.1,
           60.2,
           58.7,
           60.9,
           55.2,
           58,
           55.1,
           50.9,
           58.8,
           58.7,
           56.7,
           51.6,
           63.7,
           50.7,
           61.4,
           70.6,
           74,
           72.3,
           75,
           68.4,
           58.5,
           71.5
          ],
          "coloraxis": "coloraxis",
          "size": [
           12.6,
           13,
           12.8,
           12.7,
           11.9,
           13.1,
           12.2,
           12.9,
           13,
           12.5,
           10.6,
           11.2,
           11.8,
           12.1,
           13.1,
           10.6,
           11.9,
           12.5,
           11.7,
           11.5,
           11.3,
           11.1,
           10.8,
           10.3,
           11.9,
           9.6,
           10.1,
           12.3,
           10.3,
           12.5,
           8.8,
           11.6,
           9.1,
           9.6,
           12.2,
           11.8,
           12.4,
           10.3,
           8.7,
           9.8,
           9.5,
           9.8,
           8.2,
           11.6,
           9.4,
           11.5,
           11,
           7.2,
           11.2,
           12,
           12,
           8,
           10.8,
           8.5,
           10.9,
           11.4,
           10.5,
           9.2,
           10.6,
           12.3,
           9.3,
           10,
           8.5,
           9.4,
           10.9,
           10.5,
           11.5,
           7.9,
           8.4,
           8.2,
           8.9,
           7.6,
           10.8,
           8.5,
           7.7,
           12.1,
           8.4,
           11.2,
           8.6,
           9.9,
           9.3,
           11.3,
           7.6,
           9,
           9.3,
           10.9,
           8.3,
           7.6,
           9.3,
           7.5,
           9.9,
           9.3,
           7.3,
           7.9,
           7.3,
           6.8,
           7.3,
           8.6,
           9.7,
           10.7,
           10.5,
           7.6,
           7.7,
           5.8,
           10.3,
           8.9,
           11.2,
           6.6,
           9.9,
           7.8,
           7.6,
           7.7,
           8.9,
           10.9,
           8.9,
           6.5,
           9.9,
           7.5,
           8.2,
           10.6,
           6.4,
           4.7,
           9.7,
           8.5,
           6,
           4.4,
           6.2,
           5.6,
           10.4,
           5.4,
           5.5,
           3,
           4.4,
           6.3,
           6.8,
           6.1,
           7.8,
           5.5,
           6.6,
           7,
           5,
           5.1,
           4.4,
           4.7,
           6.3,
           3.3,
           4.7,
           4.1,
           4.7,
           7.1,
           5.1,
           5.9,
           6,
           6,
           7.3,
           3.8,
           5,
           4,
           4.6,
           2.6,
           5.9,
           4.5,
           4.9,
           3.7,
           5.4,
           3.3,
           3.1,
           3.8,
           5.4,
           2.5,
           3.2,
           4.3,
           4.3,
           2.4,
           2.8,
           6,
           4.1,
           2.8,
           2,
           3.2,
           3.1,
           2.4,
           1.4,
           2.7,
           1.9,
           3.9,
           4.2,
           1.5,
           6.4,
           7.5,
           10,
           8.2,
           5.5,
           5.2,
           7.9
          ],
          "sizemode": "area",
          "sizeref": 0.03275,
          "symbol": "circle"
         },
         "mode": "markers",
         "name": "",
         "showlegend": false,
         "type": "scattergeo"
        }
       ],
       "layout": {
        "coloraxis": {
         "colorbar": {
          "title": {
           "text": "Life Expectancy at Birth"
          }
         },
         "colorscale": [
          [
           0,
           "#440154"
          ],
          [
           0.1111111111111111,
           "#482878"
          ],
          [
           0.2222222222222222,
           "#3e4989"
          ],
          [
           0.3333333333333333,
           "#31688e"
          ],
          [
           0.4444444444444444,
           "#26828e"
          ],
          [
           0.5555555555555556,
           "#1f9e89"
          ],
          [
           0.6666666666666666,
           "#35b779"
          ],
          [
           0.7777777777777778,
           "#6ece58"
          ],
          [
           0.8888888888888888,
           "#b5de2b"
          ],
          [
           1,
           "#fde725"
          ]
         ]
        },
        "geo": {
         "coastlinecolor": "rgb(117, 125, 119)",
         "landcolor": "rgb(217, 217, 217)",
         "scope": "world"
        },
        "legend": {
         "itemsizing": "constant",
         "tracegroupgap": 0
        },
        "margin": {
         "t": 60
        },
        "template": {
         "data": {
          "bar": [
           {
            "error_x": {
             "color": "rgb(36,36,36)"
            },
            "error_y": {
             "color": "rgb(36,36,36)"
            },
            "marker": {
             "line": {
              "color": "white",
              "width": 0.5
             },
             "pattern": {
              "fillmode": "overlay",
              "size": 10,
              "solidity": 0.2
             }
            },
            "type": "bar"
           }
          ],
          "barpolar": [
           {
            "marker": {
             "line": {
              "color": "white",
              "width": 0.5
             },
             "pattern": {
              "fillmode": "overlay",
              "size": 10,
              "solidity": 0.2
             }
            },
            "type": "barpolar"
           }
          ],
          "carpet": [
           {
            "aaxis": {
             "endlinecolor": "rgb(36,36,36)",
             "gridcolor": "white",
             "linecolor": "white",
             "minorgridcolor": "white",
             "startlinecolor": "rgb(36,36,36)"
            },
            "baxis": {
             "endlinecolor": "rgb(36,36,36)",
             "gridcolor": "white",
             "linecolor": "white",
             "minorgridcolor": "white",
             "startlinecolor": "rgb(36,36,36)"
            },
            "type": "carpet"
           }
          ],
          "choropleth": [
           {
            "colorbar": {
             "outlinewidth": 1,
             "tickcolor": "rgb(36,36,36)",
             "ticks": "outside"
            },
            "type": "choropleth"
           }
          ],
          "contour": [
           {
            "colorbar": {
             "outlinewidth": 1,
             "tickcolor": "rgb(36,36,36)",
             "ticks": "outside"
            },
            "colorscale": [
             [
              0,
              "#440154"
             ],
             [
              0.1111111111111111,
              "#482878"
             ],
             [
              0.2222222222222222,
              "#3e4989"
             ],
             [
              0.3333333333333333,
              "#31688e"
             ],
             [
              0.4444444444444444,
              "#26828e"
             ],
             [
              0.5555555555555556,
              "#1f9e89"
             ],
             [
              0.6666666666666666,
              "#35b779"
             ],
             [
              0.7777777777777778,
              "#6ece58"
             ],
             [
              0.8888888888888888,
              "#b5de2b"
             ],
             [
              1,
              "#fde725"
             ]
            ],
            "type": "contour"
           }
          ],
          "contourcarpet": [
           {
            "colorbar": {
             "outlinewidth": 1,
             "tickcolor": "rgb(36,36,36)",
             "ticks": "outside"
            },
            "type": "contourcarpet"
           }
          ],
          "heatmap": [
           {
            "colorbar": {
             "outlinewidth": 1,
             "tickcolor": "rgb(36,36,36)",
             "ticks": "outside"
            },
            "colorscale": [
             [
              0,
              "#440154"
             ],
             [
              0.1111111111111111,
              "#482878"
             ],
             [
              0.2222222222222222,
              "#3e4989"
             ],
             [
              0.3333333333333333,
              "#31688e"
             ],
             [
              0.4444444444444444,
              "#26828e"
             ],
             [
              0.5555555555555556,
              "#1f9e89"
             ],
             [
              0.6666666666666666,
              "#35b779"
             ],
             [
              0.7777777777777778,
              "#6ece58"
             ],
             [
              0.8888888888888888,
              "#b5de2b"
             ],
             [
              1,
              "#fde725"
             ]
            ],
            "type": "heatmap"
           }
          ],
          "heatmapgl": [
           {
            "colorbar": {
             "outlinewidth": 1,
             "tickcolor": "rgb(36,36,36)",
             "ticks": "outside"
            },
            "colorscale": [
             [
              0,
              "#440154"
             ],
             [
              0.1111111111111111,
              "#482878"
             ],
             [
              0.2222222222222222,
              "#3e4989"
             ],
             [
              0.3333333333333333,
              "#31688e"
             ],
             [
              0.4444444444444444,
              "#26828e"
             ],
             [
              0.5555555555555556,
              "#1f9e89"
             ],
             [
              0.6666666666666666,
              "#35b779"
             ],
             [
              0.7777777777777778,
              "#6ece58"
             ],
             [
              0.8888888888888888,
              "#b5de2b"
             ],
             [
              1,
              "#fde725"
             ]
            ],
            "type": "heatmapgl"
           }
          ],
          "histogram": [
           {
            "marker": {
             "line": {
              "color": "white",
              "width": 0.6
             }
            },
            "type": "histogram"
           }
          ],
          "histogram2d": [
           {
            "colorbar": {
             "outlinewidth": 1,
             "tickcolor": "rgb(36,36,36)",
             "ticks": "outside"
            },
            "colorscale": [
             [
              0,
              "#440154"
             ],
             [
              0.1111111111111111,
              "#482878"
             ],
             [
              0.2222222222222222,
              "#3e4989"
             ],
             [
              0.3333333333333333,
              "#31688e"
             ],
             [
              0.4444444444444444,
              "#26828e"
             ],
             [
              0.5555555555555556,
              "#1f9e89"
             ],
             [
              0.6666666666666666,
              "#35b779"
             ],
             [
              0.7777777777777778,
              "#6ece58"
             ],
             [
              0.8888888888888888,
              "#b5de2b"
             ],
             [
              1,
              "#fde725"
             ]
            ],
            "type": "histogram2d"
           }
          ],
          "histogram2dcontour": [
           {
            "colorbar": {
             "outlinewidth": 1,
             "tickcolor": "rgb(36,36,36)",
             "ticks": "outside"
            },
            "colorscale": [
             [
              0,
              "#440154"
             ],
             [
              0.1111111111111111,
              "#482878"
             ],
             [
              0.2222222222222222,
              "#3e4989"
             ],
             [
              0.3333333333333333,
              "#31688e"
             ],
             [
              0.4444444444444444,
              "#26828e"
             ],
             [
              0.5555555555555556,
              "#1f9e89"
             ],
             [
              0.6666666666666666,
              "#35b779"
             ],
             [
              0.7777777777777778,
              "#6ece58"
             ],
             [
              0.8888888888888888,
              "#b5de2b"
             ],
             [
              1,
              "#fde725"
             ]
            ],
            "type": "histogram2dcontour"
           }
          ],
          "mesh3d": [
           {
            "colorbar": {
             "outlinewidth": 1,
             "tickcolor": "rgb(36,36,36)",
             "ticks": "outside"
            },
            "type": "mesh3d"
           }
          ],
          "parcoords": [
           {
            "line": {
             "colorbar": {
              "outlinewidth": 1,
              "tickcolor": "rgb(36,36,36)",
              "ticks": "outside"
             }
            },
            "type": "parcoords"
           }
          ],
          "pie": [
           {
            "automargin": true,
            "type": "pie"
           }
          ],
          "scatter": [
           {
            "marker": {
             "colorbar": {
              "outlinewidth": 1,
              "tickcolor": "rgb(36,36,36)",
              "ticks": "outside"
             }
            },
            "type": "scatter"
           }
          ],
          "scatter3d": [
           {
            "line": {
             "colorbar": {
              "outlinewidth": 1,
              "tickcolor": "rgb(36,36,36)",
              "ticks": "outside"
             }
            },
            "marker": {
             "colorbar": {
              "outlinewidth": 1,
              "tickcolor": "rgb(36,36,36)",
              "ticks": "outside"
             }
            },
            "type": "scatter3d"
           }
          ],
          "scattercarpet": [
           {
            "marker": {
             "colorbar": {
              "outlinewidth": 1,
              "tickcolor": "rgb(36,36,36)",
              "ticks": "outside"
             }
            },
            "type": "scattercarpet"
           }
          ],
          "scattergeo": [
           {
            "marker": {
             "colorbar": {
              "outlinewidth": 1,
              "tickcolor": "rgb(36,36,36)",
              "ticks": "outside"
             }
            },
            "type": "scattergeo"
           }
          ],
          "scattergl": [
           {
            "marker": {
             "colorbar": {
              "outlinewidth": 1,
              "tickcolor": "rgb(36,36,36)",
              "ticks": "outside"
             }
            },
            "type": "scattergl"
           }
          ],
          "scattermapbox": [
           {
            "marker": {
             "colorbar": {
              "outlinewidth": 1,
              "tickcolor": "rgb(36,36,36)",
              "ticks": "outside"
             }
            },
            "type": "scattermapbox"
           }
          ],
          "scatterpolar": [
           {
            "marker": {
             "colorbar": {
              "outlinewidth": 1,
              "tickcolor": "rgb(36,36,36)",
              "ticks": "outside"
             }
            },
            "type": "scatterpolar"
           }
          ],
          "scatterpolargl": [
           {
            "marker": {
             "colorbar": {
              "outlinewidth": 1,
              "tickcolor": "rgb(36,36,36)",
              "ticks": "outside"
             }
            },
            "type": "scatterpolargl"
           }
          ],
          "scatterternary": [
           {
            "marker": {
             "colorbar": {
              "outlinewidth": 1,
              "tickcolor": "rgb(36,36,36)",
              "ticks": "outside"
             }
            },
            "type": "scatterternary"
           }
          ],
          "surface": [
           {
            "colorbar": {
             "outlinewidth": 1,
             "tickcolor": "rgb(36,36,36)",
             "ticks": "outside"
            },
            "colorscale": [
             [
              0,
              "#440154"
             ],
             [
              0.1111111111111111,
              "#482878"
             ],
             [
              0.2222222222222222,
              "#3e4989"
             ],
             [
              0.3333333333333333,
              "#31688e"
             ],
             [
              0.4444444444444444,
              "#26828e"
             ],
             [
              0.5555555555555556,
              "#1f9e89"
             ],
             [
              0.6666666666666666,
              "#35b779"
             ],
             [
              0.7777777777777778,
              "#6ece58"
             ],
             [
              0.8888888888888888,
              "#b5de2b"
             ],
             [
              1,
              "#fde725"
             ]
            ],
            "type": "surface"
           }
          ],
          "table": [
           {
            "cells": {
             "fill": {
              "color": "rgb(237,237,237)"
             },
             "line": {
              "color": "white"
             }
            },
            "header": {
             "fill": {
              "color": "rgb(217,217,217)"
             },
             "line": {
              "color": "white"
             }
            },
            "type": "table"
           }
          ]
         },
         "layout": {
          "annotationdefaults": {
           "arrowhead": 0,
           "arrowwidth": 1
          },
          "autotypenumbers": "strict",
          "coloraxis": {
           "colorbar": {
            "outlinewidth": 1,
            "tickcolor": "rgb(36,36,36)",
            "ticks": "outside"
           }
          },
          "colorscale": {
           "diverging": [
            [
             0,
             "rgb(103,0,31)"
            ],
            [
             0.1,
             "rgb(178,24,43)"
            ],
            [
             0.2,
             "rgb(214,96,77)"
            ],
            [
             0.3,
             "rgb(244,165,130)"
            ],
            [
             0.4,
             "rgb(253,219,199)"
            ],
            [
             0.5,
             "rgb(247,247,247)"
            ],
            [
             0.6,
             "rgb(209,229,240)"
            ],
            [
             0.7,
             "rgb(146,197,222)"
            ],
            [
             0.8,
             "rgb(67,147,195)"
            ],
            [
             0.9,
             "rgb(33,102,172)"
            ],
            [
             1,
             "rgb(5,48,97)"
            ]
           ],
           "sequential": [
            [
             0,
             "#440154"
            ],
            [
             0.1111111111111111,
             "#482878"
            ],
            [
             0.2222222222222222,
             "#3e4989"
            ],
            [
             0.3333333333333333,
             "#31688e"
            ],
            [
             0.4444444444444444,
             "#26828e"
            ],
            [
             0.5555555555555556,
             "#1f9e89"
            ],
            [
             0.6666666666666666,
             "#35b779"
            ],
            [
             0.7777777777777778,
             "#6ece58"
            ],
            [
             0.8888888888888888,
             "#b5de2b"
            ],
            [
             1,
             "#fde725"
            ]
           ],
           "sequentialminus": [
            [
             0,
             "#440154"
            ],
            [
             0.1111111111111111,
             "#482878"
            ],
            [
             0.2222222222222222,
             "#3e4989"
            ],
            [
             0.3333333333333333,
             "#31688e"
            ],
            [
             0.4444444444444444,
             "#26828e"
            ],
            [
             0.5555555555555556,
             "#1f9e89"
            ],
            [
             0.6666666666666666,
             "#35b779"
            ],
            [
             0.7777777777777778,
             "#6ece58"
            ],
            [
             0.8888888888888888,
             "#b5de2b"
            ],
            [
             1,
             "#fde725"
            ]
           ]
          },
          "colorway": [
           "#1F77B4",
           "#FF7F0E",
           "#2CA02C",
           "#D62728",
           "#9467BD",
           "#8C564B",
           "#E377C2",
           "#7F7F7F",
           "#BCBD22",
           "#17BECF"
          ],
          "font": {
           "color": "rgb(36,36,36)"
          },
          "geo": {
           "bgcolor": "white",
           "lakecolor": "white",
           "landcolor": "white",
           "showlakes": true,
           "showland": true,
           "subunitcolor": "white"
          },
          "hoverlabel": {
           "align": "left"
          },
          "hovermode": "closest",
          "mapbox": {
           "style": "light"
          },
          "paper_bgcolor": "white",
          "plot_bgcolor": "white",
          "polar": {
           "angularaxis": {
            "gridcolor": "rgb(232,232,232)",
            "linecolor": "rgb(36,36,36)",
            "showgrid": false,
            "showline": true,
            "ticks": "outside"
           },
           "bgcolor": "white",
           "radialaxis": {
            "gridcolor": "rgb(232,232,232)",
            "linecolor": "rgb(36,36,36)",
            "showgrid": false,
            "showline": true,
            "ticks": "outside"
           }
          },
          "scene": {
           "xaxis": {
            "backgroundcolor": "white",
            "gridcolor": "rgb(232,232,232)",
            "gridwidth": 2,
            "linecolor": "rgb(36,36,36)",
            "showbackground": true,
            "showgrid": false,
            "showline": true,
            "ticks": "outside",
            "zeroline": false,
            "zerolinecolor": "rgb(36,36,36)"
           },
           "yaxis": {
            "backgroundcolor": "white",
            "gridcolor": "rgb(232,232,232)",
            "gridwidth": 2,
            "linecolor": "rgb(36,36,36)",
            "showbackground": true,
            "showgrid": false,
            "showline": true,
            "ticks": "outside",
            "zeroline": false,
            "zerolinecolor": "rgb(36,36,36)"
           },
           "zaxis": {
            "backgroundcolor": "white",
            "gridcolor": "rgb(232,232,232)",
            "gridwidth": 2,
            "linecolor": "rgb(36,36,36)",
            "showbackground": true,
            "showgrid": false,
            "showline": true,
            "ticks": "outside",
            "zeroline": false,
            "zerolinecolor": "rgb(36,36,36)"
           }
          },
          "shapedefaults": {
           "fillcolor": "black",
           "line": {
            "width": 0
           },
           "opacity": 0.3
          },
          "ternary": {
           "aaxis": {
            "gridcolor": "rgb(232,232,232)",
            "linecolor": "rgb(36,36,36)",
            "showgrid": false,
            "showline": true,
            "ticks": "outside"
           },
           "baxis": {
            "gridcolor": "rgb(232,232,232)",
            "linecolor": "rgb(36,36,36)",
            "showgrid": false,
            "showline": true,
            "ticks": "outside"
           },
           "bgcolor": "white",
           "caxis": {
            "gridcolor": "rgb(232,232,232)",
            "linecolor": "rgb(36,36,36)",
            "showgrid": false,
            "showline": true,
            "ticks": "outside"
           }
          },
          "title": {
           "x": 0.05
          },
          "xaxis": {
           "automargin": true,
           "gridcolor": "rgb(232,232,232)",
           "linecolor": "rgb(36,36,36)",
           "showgrid": false,
           "showline": true,
           "ticks": "outside",
           "title": {
            "standoff": 15
           },
           "zeroline": false,
           "zerolinecolor": "rgb(36,36,36)"
          },
          "yaxis": {
           "automargin": true,
           "gridcolor": "rgb(232,232,232)",
           "linecolor": "rgb(36,36,36)",
           "showgrid": false,
           "showline": true,
           "ticks": "outside",
           "title": {
            "standoff": 15
           },
           "zeroline": false,
           "zerolinecolor": "rgb(36,36,36)"
          }
         }
        },
        "title": {
         "text": "Mean Years of Education and Life Expectancy of Countries<br>(Hover for names and detail)"
        }
       }
      },
      "text/html": [
       "<div>                            <div id=\"20a330a8-49f2-4cf0-97c6-136ba75872f8\" class=\"plotly-graph-div\" style=\"height:525px; width:100%;\"></div>            <script type=\"text/javascript\">                require([\"plotly\"], function(Plotly) {                    window.PLOTLYENV=window.PLOTLYENV || {};                                    if (document.getElementById(\"20a330a8-49f2-4cf0-97c6-136ba75872f8\")) {                    Plotly.newPlot(                        \"20a330a8-49f2-4cf0-97c6-136ba75872f8\",                        [{\"geo\":\"geo\",\"hovertemplate\":\"<b>%{hovertext}</b><br><br>Mean Years of Education=%{marker.size}<br>3 Letter Code=%{location}<br>Life Expectancy at Birth=%{marker.color}<extra></extra>\",\"hovertext\":[\"Norway\",\"Australia\",\"Switzerland\",\"Denmark\",\"Netherlands\",\"Germany\",\"Ireland\",\"United States\",\"Canada\",\"New Zealand\",\"Singapore\",\"Hong Kong, China (SAR)\",\"Liechtenstein\",\"Sweden\",\"United Kingdom\",\"Iceland\",\"Korea (Republic of)\",\"Israel\",\"Luxembourg\",\"Japan\",\"Belgium\",\"France\",\"Austria\",\"Finland\",\"Slovenia\",\"Spain\",\"Italy\",\"Czech Republic\",\"Greece\",\"Estonia\",\"Brunei Darussalam\",\"Cyprus\",\"Qatar\",\"Andorra\",\"Slovakia\",\"Poland\",\"Lithuania\",\"Malta\",\"Saudi Arabia\",\"Argentina\",\"United Arab Emirates\",\"Chile\",\"Portugal\",\"Hungary\",\"Bahrain\",\"Latvia\",\"Croatia\",\"Kuwait\",\"Montenegro\",\"Belarus\",\"Russian Federation\",\"Oman\",\"Romania\",\"Uruguay\",\"Bahamas\",\"Kazakhstan\",\"Barbados\",\"Antigua and Barbuda\",\"Bulgaria\",\"Palau\",\"Panama\",\"Malaysia\",\"Mauritius\",\"Seychelles\",\"Trinidad and Tobago\",\"Serbia\",\"Cuba\",\"Lebanon\",\"Costa Rica\",\"Iran (Islamic Republic of)\",\"Venezuela (Bolivarian Republic of)\",\"Turkey\",\"Sri Lanka\",\"Mexico\",\"Brazil\",\"Georgia\",\"Saint Kitts and Nevis\",\"Azerbaijan\",\"Grenada\",\"Jordan\",\"The former Yugoslav Republic of Macedonia\",\"Ukraine\",\"Algeria\",\"Peru\",\"Albania\",\"Armenia\",\"Bosnia and Herzegovina\",\"Ecuador\",\"Saint Lucia\",\"China\",\"Fiji\",\"Mongolia\",\"Thailand\",\"Dominica\",\"Libya\",\"Tunisia\",\"Colombia\",\"Saint Vincent and the Grenadines\",\"Jamaica\",\"Tonga\",\"Belize\",\"Dominican Republic\",\"Suriname\",\"Maldives\",\"Samoa\",\"Botswana\",\"Moldova (Republic of)\",\"Egypt\",\"Turkmenistan\",\"Gabon\",\"Indonesia\",\"Paraguay\",\"Palestine, State of\",\"Uzbekistan\",\"Philippines\",\"El Salvador\",\"South Africa\",\"Viet Nam\",\"Bolivia (Plurinational State of)\",\"Kyrgyzstan\",\"Iraq\",\"Cabo Verde\",\"Micronesia (Federated States of)\",\"Guyana\",\"Nicaragua\",\"Morocco\",\"Namibia\",\"Guatemala\",\"Tajikistan\",\"India\",\"Honduras\",\"Bhutan\",\"Timor-Leste\",\"Syrian Arab Republic\",\"Vanuatu\",\"Congo\",\"Kiribati\",\"Equatorial Guinea\",\"Zambia\",\"Ghana\",\"Lao People's Democratic Republic\",\"Bangladesh\",\"Cambodia\",\"Sao Tome and Principe\",\"Kenya\",\"Nepal\",\"Pakistan\",\"Myanmar\",\"Angola\",\"Swaziland\",\"Tanzania (United Republic of)\",\"Nigeria\",\"Cameroon\",\"Madagascar\",\"Zimbabwe\",\"Mauritania\",\"Solomon Islands\",\"Papua New Guinea\",\"Comoros\",\"Yemen\",\"Lesotho\",\"Togo\",\"Haiti\",\"Rwanda\",\"Uganda\",\"Benin\",\"Sudan\",\"Djibouti\",\"South Sudan\",\"Senegal\",\"Afghanistan\",\"C\\u00f4te d'Ivoire\",\"Malawi\",\"Ethiopia\",\"Gambia\",\"Congo (Democratic Republic of the)\",\"Liberia\",\"Guinea-Bissau\",\"Mali\",\"Mozambique\",\"Sierra Leone\",\"Guinea\",\"Burkina Faso\",\"Burundi\",\"Chad\",\"Eritrea\",\"Central African Republic\",\"Niger\",\"Arab States\",\"East Asia and the Pacific\",\"Europe and Central Asia\",\"Latin America and the Caribbean\",\"South Asia\",\"Sub-Saharan Africa\",\"World\"],\"legendgroup\":\"\",\"locations\":[\"NOR\",\"AUS\",\"CHE\",\"DNK\",\"NLD\",\"DEU\",\"IRL\",\"USA\",\"CAN\",\"NZL\",\"SGP\",\"None\",\"LIE\",\"SWE\",\"GBR\",\"ISL\",\"None\",\"ISR\",\"LUX\",\"JPN\",\"BEL\",\"FRA\",\"AUT\",\"FIN\",\"SVN\",\"ESP\",\"ITA\",\"None\",\"GRC\",\"EST\",\"BRN\",\"CYP\",\"QAT\",\"AND\",\"SVK\",\"POL\",\"LTU\",\"MLT\",\"SAU\",\"ARG\",\"ARE\",\"CHL\",\"PRT\",\"HUN\",\"BHR\",\"LVA\",\"HRV\",\"KWT\",\"MNE\",\"BLR\",\"RUS\",\"OMN\",\"ROU\",\"URY\",\"BHS\",\"KAZ\",\"BRB\",\"ATG\",\"BGR\",\"PLW\",\"PAN\",\"MYS\",\"MUS\",\"SYC\",\"TTO\",\"SRB\",\"CUB\",\"LBN\",\"CRI\",\"None\",\"None\",\"TUR\",\"LKA\",\"MEX\",\"BRA\",\"GEO\",\"KNA\",\"AZE\",\"GRD\",\"JOR\",\"None\",\"UKR\",\"DZA\",\"PER\",\"ALB\",\"ARM\",\"BIH\",\"ECU\",\"LCA\",\"CHN\",\"FJI\",\"MNG\",\"THA\",\"DMA\",\"LBY\",\"TUN\",\"COL\",\"VCT\",\"JAM\",\"TON\",\"BLZ\",\"DOM\",\"SUR\",\"MDV\",\"WSM\",\"BWA\",\"None\",\"EGY\",\"TKM\",\"GAB\",\"IDN\",\"PRY\",\"PSE\",\"UZB\",\"PHL\",\"SLV\",\"ZAF\",\"VNM\",\"None\",\"KGZ\",\"IRQ\",\"CPV\",\"None\",\"GUY\",\"NIC\",\"MAR\",\"NAM\",\"GTM\",\"TJK\",\"IND\",\"HND\",\"BTN\",\"TLS\",\"SYR\",\"VUT\",\"COG\",\"KIR\",\"GNQ\",\"ZMB\",\"GHA\",\"LAO\",\"BGD\",\"KHM\",\"STP\",\"KEN\",\"NPL\",\"PAK\",\"MMR\",\"AGO\",\"None\",\"None\",\"NGA\",\"CMR\",\"MDG\",\"ZWE\",\"MRT\",\"SLB\",\"PNG\",\"COM\",\"YEM\",\"LSO\",\"TGO\",\"HTI\",\"RWA\",\"UGA\",\"BEN\",\"SDN\",\"DJI\",\"SSD\",\"SEN\",\"AFG\",\"CIV\",\"MWI\",\"ETH\",\"GMB\",\"None\",\"LBR\",\"GNB\",\"MLI\",\"MOZ\",\"SLE\",\"GIN\",\"BFA\",\"BDI\",\"TCD\",\"ERI\",\"CAF\",\"NER\",\"None\",\"None\",\"None\",\"None\",\"None\",\"None\",\"None\"],\"marker\":{\"color\":[81.6,82.4,83.0,80.2,81.6,80.9,80.9,79.1,82.0,81.8,83.0,84.0,80.0,82.2,80.7,82.6,81.9,82.4,81.7,83.5,80.8,82.2,81.4,80.8,80.4,82.6,83.1,78.6,80.9,76.8,78.8,80.2,78.2,81.3,76.3,77.4,73.3,80.6,74.3,76.3,77.0,81.7,80.9,75.2,76.6,74.2,77.3,74.4,76.2,71.3,70.1,76.8,74.7,77.2,75.4,69.4,75.6,76.1,74.2,72.7,77.6,74.7,74.4,73.1,70.4,74.9,79.4,79.3,79.4,75.4,74.2,75.3,74.9,76.8,74.5,74.9,73.8,70.8,73.4,74.0,75.4,71.0,74.8,74.6,77.8,74.7,76.5,75.9,75.1,75.8,70.0,69.4,74.4,77.8,71.6,74.8,74.0,72.9,75.7,72.8,70.0,73.5,71.1,76.8,73.4,64.5,71.6,71.1,65.6,64.4,68.9,72.9,72.9,68.4,68.2,73.0,57.4,75.8,68.3,70.6,69.4,73.3,69.1,66.4,74.9,74.0,64.8,71.8,69.4,68.0,73.1,69.5,68.2,69.6,71.9,62.3,66.0,57.6,60.1,61.4,66.2,71.6,68.4,66.5,61.6,69.6,66.2,65.9,52.3,49.0,65.0,52.8,55.5,65.1,57.5,63.1,67.9,62.6,63.3,63.8,49.8,59.7,62.8,64.2,58.5,59.6,63.5,62.0,55.7,66.5,60.4,51.5,62.8,64.1,60.2,58.7,60.9,55.2,58.0,55.1,50.9,58.8,58.7,56.7,51.6,63.7,50.7,61.4,70.6,74.0,72.3,75.0,68.4,58.5,71.5],\"coloraxis\":\"coloraxis\",\"size\":[12.6,13.0,12.8,12.7,11.9,13.1,12.2,12.9,13.0,12.5,10.6,11.2,11.8,12.1,13.1,10.6,11.9,12.5,11.7,11.5,11.3,11.1,10.8,10.3,11.9,9.6,10.1,12.3,10.3,12.5,8.8,11.6,9.1,9.6,12.2,11.8,12.4,10.3,8.7,9.8,9.5,9.8,8.2,11.6,9.4,11.5,11.0,7.2,11.2,12.0,12.0,8.0,10.8,8.5,10.9,11.4,10.5,9.2,10.6,12.3,9.3,10.0,8.5,9.4,10.9,10.5,11.5,7.9,8.4,8.2,8.9,7.6,10.8,8.5,7.7,12.1,8.4,11.2,8.6,9.9,9.3,11.3,7.6,9.0,9.3,10.9,8.3,7.6,9.3,7.5,9.9,9.3,7.3,7.9,7.3,6.8,7.3,8.6,9.7,10.7,10.5,7.6,7.7,5.8,10.3,8.9,11.2,6.6,9.9,7.8,7.6,7.7,8.9,10.9,8.9,6.5,9.9,7.5,8.2,10.6,6.4,4.7,9.7,8.5,6.0,4.4,6.2,5.6,10.4,5.4,5.5,3.0,4.4,6.3,6.8,6.1,7.8,5.5,6.6,7.0,5.0,5.1,4.4,4.7,6.3,3.3,4.7,4.1,4.7,7.1,5.1,5.9,6.0,6.0,7.3,3.8,5.0,4.0,4.6,2.6,5.9,4.5,4.9,3.7,5.4,3.3,3.1,3.8,5.4,2.5,3.2,4.3,4.3,2.4,2.8,6.0,4.1,2.8,2.0,3.2,3.1,2.4,1.4,2.7,1.9,3.9,4.2,1.5,6.4,7.5,10.0,8.2,5.5,5.2,7.9],\"sizemode\":\"area\",\"sizeref\":0.03275,\"symbol\":\"circle\"},\"mode\":\"markers\",\"name\":\"\",\"showlegend\":false,\"type\":\"scattergeo\"}],                        {\"coloraxis\":{\"colorbar\":{\"title\":{\"text\":\"Life Expectancy at Birth\"}},\"colorscale\":[[0.0,\"#440154\"],[0.1111111111111111,\"#482878\"],[0.2222222222222222,\"#3e4989\"],[0.3333333333333333,\"#31688e\"],[0.4444444444444444,\"#26828e\"],[0.5555555555555556,\"#1f9e89\"],[0.6666666666666666,\"#35b779\"],[0.7777777777777778,\"#6ece58\"],[0.8888888888888888,\"#b5de2b\"],[1.0,\"#fde725\"]]},\"geo\":{\"coastlinecolor\":\"rgb(117, 125, 119)\",\"landcolor\":\"rgb(217, 217, 217)\",\"scope\":\"world\"},\"legend\":{\"itemsizing\":\"constant\",\"tracegroupgap\":0},\"margin\":{\"t\":60},\"template\":{\"data\":{\"bar\":[{\"error_x\":{\"color\":\"rgb(36,36,36)\"},\"error_y\":{\"color\":\"rgb(36,36,36)\"},\"marker\":{\"line\":{\"color\":\"white\",\"width\":0.5},\"pattern\":{\"fillmode\":\"overlay\",\"size\":10,\"solidity\":0.2}},\"type\":\"bar\"}],\"barpolar\":[{\"marker\":{\"line\":{\"color\":\"white\",\"width\":0.5},\"pattern\":{\"fillmode\":\"overlay\",\"size\":10,\"solidity\":0.2}},\"type\":\"barpolar\"}],\"carpet\":[{\"aaxis\":{\"endlinecolor\":\"rgb(36,36,36)\",\"gridcolor\":\"white\",\"linecolor\":\"white\",\"minorgridcolor\":\"white\",\"startlinecolor\":\"rgb(36,36,36)\"},\"baxis\":{\"endlinecolor\":\"rgb(36,36,36)\",\"gridcolor\":\"white\",\"linecolor\":\"white\",\"minorgridcolor\":\"white\",\"startlinecolor\":\"rgb(36,36,36)\"},\"type\":\"carpet\"}],\"choropleth\":[{\"colorbar\":{\"outlinewidth\":1,\"tickcolor\":\"rgb(36,36,36)\",\"ticks\":\"outside\"},\"type\":\"choropleth\"}],\"contour\":[{\"colorbar\":{\"outlinewidth\":1,\"tickcolor\":\"rgb(36,36,36)\",\"ticks\":\"outside\"},\"colorscale\":[[0.0,\"#440154\"],[0.1111111111111111,\"#482878\"],[0.2222222222222222,\"#3e4989\"],[0.3333333333333333,\"#31688e\"],[0.4444444444444444,\"#26828e\"],[0.5555555555555556,\"#1f9e89\"],[0.6666666666666666,\"#35b779\"],[0.7777777777777778,\"#6ece58\"],[0.8888888888888888,\"#b5de2b\"],[1.0,\"#fde725\"]],\"type\":\"contour\"}],\"contourcarpet\":[{\"colorbar\":{\"outlinewidth\":1,\"tickcolor\":\"rgb(36,36,36)\",\"ticks\":\"outside\"},\"type\":\"contourcarpet\"}],\"heatmap\":[{\"colorbar\":{\"outlinewidth\":1,\"tickcolor\":\"rgb(36,36,36)\",\"ticks\":\"outside\"},\"colorscale\":[[0.0,\"#440154\"],[0.1111111111111111,\"#482878\"],[0.2222222222222222,\"#3e4989\"],[0.3333333333333333,\"#31688e\"],[0.4444444444444444,\"#26828e\"],[0.5555555555555556,\"#1f9e89\"],[0.6666666666666666,\"#35b779\"],[0.7777777777777778,\"#6ece58\"],[0.8888888888888888,\"#b5de2b\"],[1.0,\"#fde725\"]],\"type\":\"heatmap\"}],\"heatmapgl\":[{\"colorbar\":{\"outlinewidth\":1,\"tickcolor\":\"rgb(36,36,36)\",\"ticks\":\"outside\"},\"colorscale\":[[0.0,\"#440154\"],[0.1111111111111111,\"#482878\"],[0.2222222222222222,\"#3e4989\"],[0.3333333333333333,\"#31688e\"],[0.4444444444444444,\"#26828e\"],[0.5555555555555556,\"#1f9e89\"],[0.6666666666666666,\"#35b779\"],[0.7777777777777778,\"#6ece58\"],[0.8888888888888888,\"#b5de2b\"],[1.0,\"#fde725\"]],\"type\":\"heatmapgl\"}],\"histogram\":[{\"marker\":{\"line\":{\"color\":\"white\",\"width\":0.6}},\"type\":\"histogram\"}],\"histogram2d\":[{\"colorbar\":{\"outlinewidth\":1,\"tickcolor\":\"rgb(36,36,36)\",\"ticks\":\"outside\"},\"colorscale\":[[0.0,\"#440154\"],[0.1111111111111111,\"#482878\"],[0.2222222222222222,\"#3e4989\"],[0.3333333333333333,\"#31688e\"],[0.4444444444444444,\"#26828e\"],[0.5555555555555556,\"#1f9e89\"],[0.6666666666666666,\"#35b779\"],[0.7777777777777778,\"#6ece58\"],[0.8888888888888888,\"#b5de2b\"],[1.0,\"#fde725\"]],\"type\":\"histogram2d\"}],\"histogram2dcontour\":[{\"colorbar\":{\"outlinewidth\":1,\"tickcolor\":\"rgb(36,36,36)\",\"ticks\":\"outside\"},\"colorscale\":[[0.0,\"#440154\"],[0.1111111111111111,\"#482878\"],[0.2222222222222222,\"#3e4989\"],[0.3333333333333333,\"#31688e\"],[0.4444444444444444,\"#26828e\"],[0.5555555555555556,\"#1f9e89\"],[0.6666666666666666,\"#35b779\"],[0.7777777777777778,\"#6ece58\"],[0.8888888888888888,\"#b5de2b\"],[1.0,\"#fde725\"]],\"type\":\"histogram2dcontour\"}],\"mesh3d\":[{\"colorbar\":{\"outlinewidth\":1,\"tickcolor\":\"rgb(36,36,36)\",\"ticks\":\"outside\"},\"type\":\"mesh3d\"}],\"parcoords\":[{\"line\":{\"colorbar\":{\"outlinewidth\":1,\"tickcolor\":\"rgb(36,36,36)\",\"ticks\":\"outside\"}},\"type\":\"parcoords\"}],\"pie\":[{\"automargin\":true,\"type\":\"pie\"}],\"scatter\":[{\"marker\":{\"colorbar\":{\"outlinewidth\":1,\"tickcolor\":\"rgb(36,36,36)\",\"ticks\":\"outside\"}},\"type\":\"scatter\"}],\"scatter3d\":[{\"line\":{\"colorbar\":{\"outlinewidth\":1,\"tickcolor\":\"rgb(36,36,36)\",\"ticks\":\"outside\"}},\"marker\":{\"colorbar\":{\"outlinewidth\":1,\"tickcolor\":\"rgb(36,36,36)\",\"ticks\":\"outside\"}},\"type\":\"scatter3d\"}],\"scattercarpet\":[{\"marker\":{\"colorbar\":{\"outlinewidth\":1,\"tickcolor\":\"rgb(36,36,36)\",\"ticks\":\"outside\"}},\"type\":\"scattercarpet\"}],\"scattergeo\":[{\"marker\":{\"colorbar\":{\"outlinewidth\":1,\"tickcolor\":\"rgb(36,36,36)\",\"ticks\":\"outside\"}},\"type\":\"scattergeo\"}],\"scattergl\":[{\"marker\":{\"colorbar\":{\"outlinewidth\":1,\"tickcolor\":\"rgb(36,36,36)\",\"ticks\":\"outside\"}},\"type\":\"scattergl\"}],\"scattermapbox\":[{\"marker\":{\"colorbar\":{\"outlinewidth\":1,\"tickcolor\":\"rgb(36,36,36)\",\"ticks\":\"outside\"}},\"type\":\"scattermapbox\"}],\"scatterpolar\":[{\"marker\":{\"colorbar\":{\"outlinewidth\":1,\"tickcolor\":\"rgb(36,36,36)\",\"ticks\":\"outside\"}},\"type\":\"scatterpolar\"}],\"scatterpolargl\":[{\"marker\":{\"colorbar\":{\"outlinewidth\":1,\"tickcolor\":\"rgb(36,36,36)\",\"ticks\":\"outside\"}},\"type\":\"scatterpolargl\"}],\"scatterternary\":[{\"marker\":{\"colorbar\":{\"outlinewidth\":1,\"tickcolor\":\"rgb(36,36,36)\",\"ticks\":\"outside\"}},\"type\":\"scatterternary\"}],\"surface\":[{\"colorbar\":{\"outlinewidth\":1,\"tickcolor\":\"rgb(36,36,36)\",\"ticks\":\"outside\"},\"colorscale\":[[0.0,\"#440154\"],[0.1111111111111111,\"#482878\"],[0.2222222222222222,\"#3e4989\"],[0.3333333333333333,\"#31688e\"],[0.4444444444444444,\"#26828e\"],[0.5555555555555556,\"#1f9e89\"],[0.6666666666666666,\"#35b779\"],[0.7777777777777778,\"#6ece58\"],[0.8888888888888888,\"#b5de2b\"],[1.0,\"#fde725\"]],\"type\":\"surface\"}],\"table\":[{\"cells\":{\"fill\":{\"color\":\"rgb(237,237,237)\"},\"line\":{\"color\":\"white\"}},\"header\":{\"fill\":{\"color\":\"rgb(217,217,217)\"},\"line\":{\"color\":\"white\"}},\"type\":\"table\"}]},\"layout\":{\"annotationdefaults\":{\"arrowhead\":0,\"arrowwidth\":1},\"autotypenumbers\":\"strict\",\"coloraxis\":{\"colorbar\":{\"outlinewidth\":1,\"tickcolor\":\"rgb(36,36,36)\",\"ticks\":\"outside\"}},\"colorscale\":{\"diverging\":[[0.0,\"rgb(103,0,31)\"],[0.1,\"rgb(178,24,43)\"],[0.2,\"rgb(214,96,77)\"],[0.3,\"rgb(244,165,130)\"],[0.4,\"rgb(253,219,199)\"],[0.5,\"rgb(247,247,247)\"],[0.6,\"rgb(209,229,240)\"],[0.7,\"rgb(146,197,222)\"],[0.8,\"rgb(67,147,195)\"],[0.9,\"rgb(33,102,172)\"],[1.0,\"rgb(5,48,97)\"]],\"sequential\":[[0.0,\"#440154\"],[0.1111111111111111,\"#482878\"],[0.2222222222222222,\"#3e4989\"],[0.3333333333333333,\"#31688e\"],[0.4444444444444444,\"#26828e\"],[0.5555555555555556,\"#1f9e89\"],[0.6666666666666666,\"#35b779\"],[0.7777777777777778,\"#6ece58\"],[0.8888888888888888,\"#b5de2b\"],[1.0,\"#fde725\"]],\"sequentialminus\":[[0.0,\"#440154\"],[0.1111111111111111,\"#482878\"],[0.2222222222222222,\"#3e4989\"],[0.3333333333333333,\"#31688e\"],[0.4444444444444444,\"#26828e\"],[0.5555555555555556,\"#1f9e89\"],[0.6666666666666666,\"#35b779\"],[0.7777777777777778,\"#6ece58\"],[0.8888888888888888,\"#b5de2b\"],[1.0,\"#fde725\"]]},\"colorway\":[\"#1F77B4\",\"#FF7F0E\",\"#2CA02C\",\"#D62728\",\"#9467BD\",\"#8C564B\",\"#E377C2\",\"#7F7F7F\",\"#BCBD22\",\"#17BECF\"],\"font\":{\"color\":\"rgb(36,36,36)\"},\"geo\":{\"bgcolor\":\"white\",\"lakecolor\":\"white\",\"landcolor\":\"white\",\"showlakes\":true,\"showland\":true,\"subunitcolor\":\"white\"},\"hoverlabel\":{\"align\":\"left\"},\"hovermode\":\"closest\",\"mapbox\":{\"style\":\"light\"},\"paper_bgcolor\":\"white\",\"plot_bgcolor\":\"white\",\"polar\":{\"angularaxis\":{\"gridcolor\":\"rgb(232,232,232)\",\"linecolor\":\"rgb(36,36,36)\",\"showgrid\":false,\"showline\":true,\"ticks\":\"outside\"},\"bgcolor\":\"white\",\"radialaxis\":{\"gridcolor\":\"rgb(232,232,232)\",\"linecolor\":\"rgb(36,36,36)\",\"showgrid\":false,\"showline\":true,\"ticks\":\"outside\"}},\"scene\":{\"xaxis\":{\"backgroundcolor\":\"white\",\"gridcolor\":\"rgb(232,232,232)\",\"gridwidth\":2,\"linecolor\":\"rgb(36,36,36)\",\"showbackground\":true,\"showgrid\":false,\"showline\":true,\"ticks\":\"outside\",\"zeroline\":false,\"zerolinecolor\":\"rgb(36,36,36)\"},\"yaxis\":{\"backgroundcolor\":\"white\",\"gridcolor\":\"rgb(232,232,232)\",\"gridwidth\":2,\"linecolor\":\"rgb(36,36,36)\",\"showbackground\":true,\"showgrid\":false,\"showline\":true,\"ticks\":\"outside\",\"zeroline\":false,\"zerolinecolor\":\"rgb(36,36,36)\"},\"zaxis\":{\"backgroundcolor\":\"white\",\"gridcolor\":\"rgb(232,232,232)\",\"gridwidth\":2,\"linecolor\":\"rgb(36,36,36)\",\"showbackground\":true,\"showgrid\":false,\"showline\":true,\"ticks\":\"outside\",\"zeroline\":false,\"zerolinecolor\":\"rgb(36,36,36)\"}},\"shapedefaults\":{\"fillcolor\":\"black\",\"line\":{\"width\":0},\"opacity\":0.3},\"ternary\":{\"aaxis\":{\"gridcolor\":\"rgb(232,232,232)\",\"linecolor\":\"rgb(36,36,36)\",\"showgrid\":false,\"showline\":true,\"ticks\":\"outside\"},\"baxis\":{\"gridcolor\":\"rgb(232,232,232)\",\"linecolor\":\"rgb(36,36,36)\",\"showgrid\":false,\"showline\":true,\"ticks\":\"outside\"},\"bgcolor\":\"white\",\"caxis\":{\"gridcolor\":\"rgb(232,232,232)\",\"linecolor\":\"rgb(36,36,36)\",\"showgrid\":false,\"showline\":true,\"ticks\":\"outside\"}},\"title\":{\"x\":0.05},\"xaxis\":{\"automargin\":true,\"gridcolor\":\"rgb(232,232,232)\",\"linecolor\":\"rgb(36,36,36)\",\"showgrid\":false,\"showline\":true,\"ticks\":\"outside\",\"title\":{\"standoff\":15},\"zeroline\":false,\"zerolinecolor\":\"rgb(36,36,36)\"},\"yaxis\":{\"automargin\":true,\"gridcolor\":\"rgb(232,232,232)\",\"linecolor\":\"rgb(36,36,36)\",\"showgrid\":false,\"showline\":true,\"ticks\":\"outside\",\"title\":{\"standoff\":15},\"zeroline\":false,\"zerolinecolor\":\"rgb(36,36,36)\"}}},\"title\":{\"text\":\"Mean Years of Education and Life Expectancy of Countries<br>(Hover for names and detail)\"}},                        {\"responsive\": true}                    ).then(function(){\n",
       "                            \n",
       "var gd = document.getElementById('20a330a8-49f2-4cf0-97c6-136ba75872f8');\n",
       "var x = new MutationObserver(function (mutations, observer) {{\n",
       "        var display = window.getComputedStyle(gd).display;\n",
       "        if (!display || display === 'none') {{\n",
       "            console.log([gd, 'removed!']);\n",
       "            Plotly.purge(gd);\n",
       "            observer.disconnect();\n",
       "        }}\n",
       "}});\n",
       "\n",
       "// Listen for the removal of the full notebook cells\n",
       "var notebookContainer = gd.closest('#notebook-container');\n",
       "if (notebookContainer) {{\n",
       "    x.observe(notebookContainer, {childList: true});\n",
       "}}\n",
       "\n",
       "// Listen for the clearing of the current output cell\n",
       "var outputEl = gd.closest('.output');\n",
       "if (outputEl) {{\n",
       "    x.observe(outputEl, {childList: true});\n",
       "}}\n",
       "\n",
       "                        })                };                });            </script>        </div>"
      ]
     },
     "metadata": {},
     "output_type": "display_data"
    }
   ],
   "source": [
    "# IMPORTS\n",
    "import warnings\n",
    "warnings.filterwarnings('ignore')\n",
    "import pycountry\n",
    "import numpy as np\n",
    "import pandas as pd\n",
    "import plotly\n",
    "import dplython\n",
    "import plotly.express as px\n",
    "import plotly.graph_objects as go\n",
    "import plotly.io as pio\n",
    "\n",
    "\n",
    "#read the csv file\n",
    "df = pd.read_csv (r'C:\\Users\\Meena Krishnan\\Downloads\\human_development.csv')   \n",
    "\n",
    "#converting country names to 3 letter iso-alpha codes\n",
    "def alpha3code(column):\n",
    "    CODE=[]\n",
    "    for country in column:\n",
    "        try:\n",
    "            code=pycountry.countries.get(name=country).alpha_3\n",
    "          \n",
    "            CODE.append(code)\n",
    "        except:\n",
    "            CODE.append('None')\n",
    "    return CODE\n",
    "# create a column for CODE\n",
    "df['CODE']=alpha3code(df.Country)\n",
    "\n",
    "# selecting column names from data frame\n",
    "df = pd.DataFrame(df, columns = ['Life Expectancy at Birth', 'Country', 'Mean Years of Education', 'CODE'])\n",
    "\n",
    "# renaming CODE to 3 letter code\n",
    "df = df.rename(columns={\"CODE\":\"3 Letter Code\"})\n",
    "\n",
    "# creating map\n",
    "map_fig = px.scatter_geo(df, \n",
    "                     locations=\"3 Letter Code\",\n",
    "                     color = \"Life Expectancy at Birth\",\n",
    "                     size = \"Mean Years of Education\",\n",
    "                     hover_name=\"Country\",\n",
    "                    template = \"simple_white\"\n",
    "                    )\n",
    "map_fig.update_layout(\n",
    "        title = 'Mean Years of Education and Life Expectancy of Countries<br>(Hover for names and detail)',\n",
    "        geo = go.layout.Geo(landcolor = \"rgb(217, 217, 217)\",\n",
    "                            scope = \"world\",\n",
    "                            coastlinecolor = \"rgb(117, 125, 119)\"))\n",
    "map_fig.show()"
   ]
  },
  {
   "cell_type": "code",
   "execution_count": 185,
   "id": "a26da58f",
   "metadata": {},
   "outputs": [
    {
     "data": {
      "application/vnd.plotly.v1+json": {
       "config": {
        "plotlyServerURL": "https://plot.ly"
       },
       "data": [
        {
         "hovertemplate": "region=Central and Eastern Europe<br>Year=%{x}<br>Freedom to make Life Choices(Index)=%{y}<extra></extra>",
         "legendgroup": "Central and Eastern Europe",
         "line": {
          "color": "#636efa",
          "dash": "solid"
         },
         "mode": "lines",
         "name": "Central and Eastern Europe",
         "orientation": "v",
         "showlegend": true,
         "type": "scatter",
         "x": [
          "2006",
          "2008",
          "2010",
          "2012",
          "2014",
          "2016",
          "2018",
          "2020"
         ],
         "xaxis": "x",
         "y": [
          0.687,
          0.631,
          0.5818,
          0.6135294117647059,
          0.633,
          0.7231764705882353,
          0.7641176470588236,
          0.8264374999999999
         ],
         "yaxis": "y"
        },
        {
         "hovertemplate": "region=Commonwealth of Independent States<br>Year=%{x}<br>Freedom to make Life Choices(Index)=%{y}<extra></extra>",
         "legendgroup": "Commonwealth of Independent States",
         "line": {
          "color": "#EF553B",
          "dash": "solid"
         },
         "mode": "lines",
         "name": "Commonwealth of Independent States",
         "orientation": "v",
         "showlegend": true,
         "type": "scatter",
         "x": [
          "2006",
          "2008",
          "2010",
          "2012",
          "2014",
          "2016",
          "2018",
          "2020"
         ],
         "xaxis": "x",
         "y": [
          0.6607272727272727,
          0.6528181818181819,
          0.6202,
          0.681,
          0.7210833333333334,
          0.6995833333333333,
          0.8025454545454545,
          0.8213333333333334
         ],
         "yaxis": "y"
        },
        {
         "hovertemplate": "region=East Asia<br>Year=%{x}<br>Freedom to make Life Choices(Index)=%{y}<extra></extra>",
         "legendgroup": "East Asia",
         "line": {
          "color": "#00cc96",
          "dash": "solid"
         },
         "mode": "lines",
         "name": "East Asia",
         "orientation": "v",
         "showlegend": true,
         "type": "scatter",
         "x": [
          "2006",
          "2008",
          "2010",
          "2012",
          "2014",
          "2016",
          "2018",
          "2020"
         ],
         "xaxis": "x",
         "y": [
          0.7516666666666666,
          0.6995,
          0.742,
          0.7408333333333333,
          0.7497999999999999,
          0.7412,
          0.741,
          0.7716666666666666
         ],
         "yaxis": "y"
        },
        {
         "hovertemplate": "region=Latin America and Caribbean<br>Year=%{x}<br>Freedom to make Life Choices(Index)=%{y}<extra></extra>",
         "legendgroup": "Latin America and Caribbean",
         "line": {
          "color": "#ab63fa",
          "dash": "solid"
         },
         "mode": "lines",
         "name": "Latin America and Caribbean",
         "orientation": "v",
         "showlegend": true,
         "type": "scatter",
         "x": [
          "2006",
          "2008",
          "2010",
          "2012",
          "2014",
          "2016",
          "2018",
          "2020"
         ],
         "xaxis": "x",
         "y": [
          0.7353888888888889,
          0.7045789473684211,
          0.7400526315789474,
          0.7837368421052632,
          0.77525,
          0.7796842105263158,
          0.8225,
          0.8261818181818181
         ],
         "yaxis": "y"
        },
        {
         "hovertemplate": "region=Middle East and North Africa<br>Year=%{x}<br>Freedom to make Life Choices(Index)=%{y}<extra></extra>",
         "legendgroup": "Middle East and North Africa",
         "line": {
          "color": "#FFA15A",
          "dash": "solid"
         },
         "mode": "lines",
         "name": "Middle East and North Africa",
         "orientation": "v",
         "showlegend": true,
         "type": "scatter",
         "x": [
          "2006",
          "2008",
          "2010",
          "2012",
          "2014",
          "2016",
          "2018",
          "2020"
         ],
         "xaxis": "x",
         "y": [
          0.7402,
          0.497,
          0.6407333333333334,
          0.645,
          0.6731818181818182,
          0.736625,
          0.6866666666666668,
          0.768
         ],
         "yaxis": "y"
        },
        {
         "hovertemplate": "region=North America and ANZ<br>Year=%{x}<br>Freedom to make Life Choices(Index)=%{y}<extra></extra>",
         "legendgroup": "North America and ANZ",
         "line": {
          "color": "#19d3f3",
          "dash": "solid"
         },
         "mode": "lines",
         "name": "North America and ANZ",
         "orientation": "v",
         "showlegend": true,
         "type": "scatter",
         "x": [
          "2006",
          "2008",
          "2010",
          "2012",
          "2014",
          "2016",
          "2018",
          "2020"
         ],
         "xaxis": "x",
         "y": [
          0.9215,
          0.90325,
          0.903,
          0.8945000000000001,
          0.915,
          0.87975,
          0.909,
          0.89
         ],
         "yaxis": "y"
        },
        {
         "hovertemplate": "region=South Asia<br>Year=%{x}<br>Freedom to make Life Choices(Index)=%{y}<extra></extra>",
         "legendgroup": "South Asia",
         "line": {
          "color": "#FF6692",
          "dash": "solid"
         },
         "mode": "lines",
         "name": "South Asia",
         "orientation": "v",
         "showlegend": true,
         "type": "scatter",
         "x": [
          "2006",
          "2008",
          "2010",
          "2012",
          "2014",
          "2016",
          "2018",
          "2020"
         ],
         "xaxis": "x",
         "y": [
          0.69975,
          0.6445,
          0.6105,
          0.6021666666666666,
          0.6961666666666666,
          0.7382,
          0.7745714285714286,
          0.8415
         ],
         "yaxis": "y"
        },
        {
         "hovertemplate": "region=Southeast Asia<br>Year=%{x}<br>Freedom to make Life Choices(Index)=%{y}<extra></extra>",
         "legendgroup": "Southeast Asia",
         "line": {
          "color": "#B6E880",
          "dash": "solid"
         },
         "mode": "lines",
         "name": "Southeast Asia",
         "orientation": "v",
         "showlegend": true,
         "type": "scatter",
         "x": [
          "2006",
          "2008",
          "2010",
          "2012",
          "2014",
          "2016",
          "2018",
          "2020"
         ],
         "xaxis": "x",
         "y": [
          0.8298571428571428,
          0.806875,
          0.8341428571428571,
          0.8402857142857142,
          0.8503333333333334,
          0.8992857142857142,
          0.9081111111111111,
          0.8949999999999999
         ],
         "yaxis": "y"
        },
        {
         "hovertemplate": "region=Sub-Saharan Africa<br>Year=%{x}<br>Freedom to make Life Choices(Index)=%{y}<extra></extra>",
         "legendgroup": "Sub-Saharan Africa",
         "line": {
          "color": "#FF97FF",
          "dash": "solid"
         },
         "mode": "lines",
         "name": "Sub-Saharan Africa",
         "orientation": "v",
         "showlegend": true,
         "type": "scatter",
         "x": [
          "2006",
          "2008",
          "2010",
          "2012",
          "2014",
          "2016",
          "2018",
          "2020"
         ],
         "xaxis": "x",
         "y": [
          0.6720952380952381,
          0.5895199999999999,
          0.7049444444444445,
          0.65596,
          0.7015333333333333,
          0.7330666666666666,
          0.7353142857142857,
          0.7437142857142858
         ],
         "yaxis": "y"
        },
        {
         "hovertemplate": "region=Western Europe<br>Year=%{x}<br>Freedom to make Life Choices(Index)=%{y}<extra></extra>",
         "legendgroup": "Western Europe",
         "line": {
          "color": "#FECB52",
          "dash": "solid"
         },
         "mode": "lines",
         "name": "Western Europe",
         "orientation": "v",
         "showlegend": true,
         "type": "scatter",
         "x": [
          "2006",
          "2008",
          "2010",
          "2012",
          "2014",
          "2016",
          "2018",
          "2020"
         ],
         "xaxis": "x",
         "y": [
          0.904875,
          0.8381333333333333,
          0.822529411764706,
          0.8310000000000001,
          0.8413499999999999,
          0.8443809523809523,
          0.8470000000000001,
          0.8643684210526315
         ],
         "yaxis": "y"
        }
       ],
       "layout": {
        "legend": {
         "title": {
          "text": "region"
         },
         "tracegroupgap": 0
        },
        "template": {
         "data": {
          "bar": [
           {
            "error_x": {
             "color": "#2a3f5f"
            },
            "error_y": {
             "color": "#2a3f5f"
            },
            "marker": {
             "line": {
              "color": "#E5ECF6",
              "width": 0.5
             },
             "pattern": {
              "fillmode": "overlay",
              "size": 10,
              "solidity": 0.2
             }
            },
            "type": "bar"
           }
          ],
          "barpolar": [
           {
            "marker": {
             "line": {
              "color": "#E5ECF6",
              "width": 0.5
             },
             "pattern": {
              "fillmode": "overlay",
              "size": 10,
              "solidity": 0.2
             }
            },
            "type": "barpolar"
           }
          ],
          "carpet": [
           {
            "aaxis": {
             "endlinecolor": "#2a3f5f",
             "gridcolor": "white",
             "linecolor": "white",
             "minorgridcolor": "white",
             "startlinecolor": "#2a3f5f"
            },
            "baxis": {
             "endlinecolor": "#2a3f5f",
             "gridcolor": "white",
             "linecolor": "white",
             "minorgridcolor": "white",
             "startlinecolor": "#2a3f5f"
            },
            "type": "carpet"
           }
          ],
          "choropleth": [
           {
            "colorbar": {
             "outlinewidth": 0,
             "ticks": ""
            },
            "type": "choropleth"
           }
          ],
          "contour": [
           {
            "colorbar": {
             "outlinewidth": 0,
             "ticks": ""
            },
            "colorscale": [
             [
              0,
              "#0d0887"
             ],
             [
              0.1111111111111111,
              "#46039f"
             ],
             [
              0.2222222222222222,
              "#7201a8"
             ],
             [
              0.3333333333333333,
              "#9c179e"
             ],
             [
              0.4444444444444444,
              "#bd3786"
             ],
             [
              0.5555555555555556,
              "#d8576b"
             ],
             [
              0.6666666666666666,
              "#ed7953"
             ],
             [
              0.7777777777777778,
              "#fb9f3a"
             ],
             [
              0.8888888888888888,
              "#fdca26"
             ],
             [
              1,
              "#f0f921"
             ]
            ],
            "type": "contour"
           }
          ],
          "contourcarpet": [
           {
            "colorbar": {
             "outlinewidth": 0,
             "ticks": ""
            },
            "type": "contourcarpet"
           }
          ],
          "heatmap": [
           {
            "colorbar": {
             "outlinewidth": 0,
             "ticks": ""
            },
            "colorscale": [
             [
              0,
              "#0d0887"
             ],
             [
              0.1111111111111111,
              "#46039f"
             ],
             [
              0.2222222222222222,
              "#7201a8"
             ],
             [
              0.3333333333333333,
              "#9c179e"
             ],
             [
              0.4444444444444444,
              "#bd3786"
             ],
             [
              0.5555555555555556,
              "#d8576b"
             ],
             [
              0.6666666666666666,
              "#ed7953"
             ],
             [
              0.7777777777777778,
              "#fb9f3a"
             ],
             [
              0.8888888888888888,
              "#fdca26"
             ],
             [
              1,
              "#f0f921"
             ]
            ],
            "type": "heatmap"
           }
          ],
          "heatmapgl": [
           {
            "colorbar": {
             "outlinewidth": 0,
             "ticks": ""
            },
            "colorscale": [
             [
              0,
              "#0d0887"
             ],
             [
              0.1111111111111111,
              "#46039f"
             ],
             [
              0.2222222222222222,
              "#7201a8"
             ],
             [
              0.3333333333333333,
              "#9c179e"
             ],
             [
              0.4444444444444444,
              "#bd3786"
             ],
             [
              0.5555555555555556,
              "#d8576b"
             ],
             [
              0.6666666666666666,
              "#ed7953"
             ],
             [
              0.7777777777777778,
              "#fb9f3a"
             ],
             [
              0.8888888888888888,
              "#fdca26"
             ],
             [
              1,
              "#f0f921"
             ]
            ],
            "type": "heatmapgl"
           }
          ],
          "histogram": [
           {
            "marker": {
             "pattern": {
              "fillmode": "overlay",
              "size": 10,
              "solidity": 0.2
             }
            },
            "type": "histogram"
           }
          ],
          "histogram2d": [
           {
            "colorbar": {
             "outlinewidth": 0,
             "ticks": ""
            },
            "colorscale": [
             [
              0,
              "#0d0887"
             ],
             [
              0.1111111111111111,
              "#46039f"
             ],
             [
              0.2222222222222222,
              "#7201a8"
             ],
             [
              0.3333333333333333,
              "#9c179e"
             ],
             [
              0.4444444444444444,
              "#bd3786"
             ],
             [
              0.5555555555555556,
              "#d8576b"
             ],
             [
              0.6666666666666666,
              "#ed7953"
             ],
             [
              0.7777777777777778,
              "#fb9f3a"
             ],
             [
              0.8888888888888888,
              "#fdca26"
             ],
             [
              1,
              "#f0f921"
             ]
            ],
            "type": "histogram2d"
           }
          ],
          "histogram2dcontour": [
           {
            "colorbar": {
             "outlinewidth": 0,
             "ticks": ""
            },
            "colorscale": [
             [
              0,
              "#0d0887"
             ],
             [
              0.1111111111111111,
              "#46039f"
             ],
             [
              0.2222222222222222,
              "#7201a8"
             ],
             [
              0.3333333333333333,
              "#9c179e"
             ],
             [
              0.4444444444444444,
              "#bd3786"
             ],
             [
              0.5555555555555556,
              "#d8576b"
             ],
             [
              0.6666666666666666,
              "#ed7953"
             ],
             [
              0.7777777777777778,
              "#fb9f3a"
             ],
             [
              0.8888888888888888,
              "#fdca26"
             ],
             [
              1,
              "#f0f921"
             ]
            ],
            "type": "histogram2dcontour"
           }
          ],
          "mesh3d": [
           {
            "colorbar": {
             "outlinewidth": 0,
             "ticks": ""
            },
            "type": "mesh3d"
           }
          ],
          "parcoords": [
           {
            "line": {
             "colorbar": {
              "outlinewidth": 0,
              "ticks": ""
             }
            },
            "type": "parcoords"
           }
          ],
          "pie": [
           {
            "automargin": true,
            "type": "pie"
           }
          ],
          "scatter": [
           {
            "marker": {
             "colorbar": {
              "outlinewidth": 0,
              "ticks": ""
             }
            },
            "type": "scatter"
           }
          ],
          "scatter3d": [
           {
            "line": {
             "colorbar": {
              "outlinewidth": 0,
              "ticks": ""
             }
            },
            "marker": {
             "colorbar": {
              "outlinewidth": 0,
              "ticks": ""
             }
            },
            "type": "scatter3d"
           }
          ],
          "scattercarpet": [
           {
            "marker": {
             "colorbar": {
              "outlinewidth": 0,
              "ticks": ""
             }
            },
            "type": "scattercarpet"
           }
          ],
          "scattergeo": [
           {
            "marker": {
             "colorbar": {
              "outlinewidth": 0,
              "ticks": ""
             }
            },
            "type": "scattergeo"
           }
          ],
          "scattergl": [
           {
            "marker": {
             "colorbar": {
              "outlinewidth": 0,
              "ticks": ""
             }
            },
            "type": "scattergl"
           }
          ],
          "scattermapbox": [
           {
            "marker": {
             "colorbar": {
              "outlinewidth": 0,
              "ticks": ""
             }
            },
            "type": "scattermapbox"
           }
          ],
          "scatterpolar": [
           {
            "marker": {
             "colorbar": {
              "outlinewidth": 0,
              "ticks": ""
             }
            },
            "type": "scatterpolar"
           }
          ],
          "scatterpolargl": [
           {
            "marker": {
             "colorbar": {
              "outlinewidth": 0,
              "ticks": ""
             }
            },
            "type": "scatterpolargl"
           }
          ],
          "scatterternary": [
           {
            "marker": {
             "colorbar": {
              "outlinewidth": 0,
              "ticks": ""
             }
            },
            "type": "scatterternary"
           }
          ],
          "surface": [
           {
            "colorbar": {
             "outlinewidth": 0,
             "ticks": ""
            },
            "colorscale": [
             [
              0,
              "#0d0887"
             ],
             [
              0.1111111111111111,
              "#46039f"
             ],
             [
              0.2222222222222222,
              "#7201a8"
             ],
             [
              0.3333333333333333,
              "#9c179e"
             ],
             [
              0.4444444444444444,
              "#bd3786"
             ],
             [
              0.5555555555555556,
              "#d8576b"
             ],
             [
              0.6666666666666666,
              "#ed7953"
             ],
             [
              0.7777777777777778,
              "#fb9f3a"
             ],
             [
              0.8888888888888888,
              "#fdca26"
             ],
             [
              1,
              "#f0f921"
             ]
            ],
            "type": "surface"
           }
          ],
          "table": [
           {
            "cells": {
             "fill": {
              "color": "#EBF0F8"
             },
             "line": {
              "color": "white"
             }
            },
            "header": {
             "fill": {
              "color": "#C8D4E3"
             },
             "line": {
              "color": "white"
             }
            },
            "type": "table"
           }
          ]
         },
         "layout": {
          "annotationdefaults": {
           "arrowcolor": "#2a3f5f",
           "arrowhead": 0,
           "arrowwidth": 1
          },
          "autotypenumbers": "strict",
          "coloraxis": {
           "colorbar": {
            "outlinewidth": 0,
            "ticks": ""
           }
          },
          "colorscale": {
           "diverging": [
            [
             0,
             "#8e0152"
            ],
            [
             0.1,
             "#c51b7d"
            ],
            [
             0.2,
             "#de77ae"
            ],
            [
             0.3,
             "#f1b6da"
            ],
            [
             0.4,
             "#fde0ef"
            ],
            [
             0.5,
             "#f7f7f7"
            ],
            [
             0.6,
             "#e6f5d0"
            ],
            [
             0.7,
             "#b8e186"
            ],
            [
             0.8,
             "#7fbc41"
            ],
            [
             0.9,
             "#4d9221"
            ],
            [
             1,
             "#276419"
            ]
           ],
           "sequential": [
            [
             0,
             "#0d0887"
            ],
            [
             0.1111111111111111,
             "#46039f"
            ],
            [
             0.2222222222222222,
             "#7201a8"
            ],
            [
             0.3333333333333333,
             "#9c179e"
            ],
            [
             0.4444444444444444,
             "#bd3786"
            ],
            [
             0.5555555555555556,
             "#d8576b"
            ],
            [
             0.6666666666666666,
             "#ed7953"
            ],
            [
             0.7777777777777778,
             "#fb9f3a"
            ],
            [
             0.8888888888888888,
             "#fdca26"
            ],
            [
             1,
             "#f0f921"
            ]
           ],
           "sequentialminus": [
            [
             0,
             "#0d0887"
            ],
            [
             0.1111111111111111,
             "#46039f"
            ],
            [
             0.2222222222222222,
             "#7201a8"
            ],
            [
             0.3333333333333333,
             "#9c179e"
            ],
            [
             0.4444444444444444,
             "#bd3786"
            ],
            [
             0.5555555555555556,
             "#d8576b"
            ],
            [
             0.6666666666666666,
             "#ed7953"
            ],
            [
             0.7777777777777778,
             "#fb9f3a"
            ],
            [
             0.8888888888888888,
             "#fdca26"
            ],
            [
             1,
             "#f0f921"
            ]
           ]
          },
          "colorway": [
           "#636efa",
           "#EF553B",
           "#00cc96",
           "#ab63fa",
           "#FFA15A",
           "#19d3f3",
           "#FF6692",
           "#B6E880",
           "#FF97FF",
           "#FECB52"
          ],
          "font": {
           "color": "#2a3f5f"
          },
          "geo": {
           "bgcolor": "white",
           "lakecolor": "white",
           "landcolor": "#E5ECF6",
           "showlakes": true,
           "showland": true,
           "subunitcolor": "white"
          },
          "hoverlabel": {
           "align": "left"
          },
          "hovermode": "closest",
          "mapbox": {
           "style": "light"
          },
          "paper_bgcolor": "white",
          "plot_bgcolor": "#E5ECF6",
          "polar": {
           "angularaxis": {
            "gridcolor": "white",
            "linecolor": "white",
            "ticks": ""
           },
           "bgcolor": "#E5ECF6",
           "radialaxis": {
            "gridcolor": "white",
            "linecolor": "white",
            "ticks": ""
           }
          },
          "scene": {
           "xaxis": {
            "backgroundcolor": "#E5ECF6",
            "gridcolor": "white",
            "gridwidth": 2,
            "linecolor": "white",
            "showbackground": true,
            "ticks": "",
            "zerolinecolor": "white"
           },
           "yaxis": {
            "backgroundcolor": "#E5ECF6",
            "gridcolor": "white",
            "gridwidth": 2,
            "linecolor": "white",
            "showbackground": true,
            "ticks": "",
            "zerolinecolor": "white"
           },
           "zaxis": {
            "backgroundcolor": "#E5ECF6",
            "gridcolor": "white",
            "gridwidth": 2,
            "linecolor": "white",
            "showbackground": true,
            "ticks": "",
            "zerolinecolor": "white"
           }
          },
          "shapedefaults": {
           "line": {
            "color": "#2a3f5f"
           }
          },
          "ternary": {
           "aaxis": {
            "gridcolor": "white",
            "linecolor": "white",
            "ticks": ""
           },
           "baxis": {
            "gridcolor": "white",
            "linecolor": "white",
            "ticks": ""
           },
           "bgcolor": "#E5ECF6",
           "caxis": {
            "gridcolor": "white",
            "linecolor": "white",
            "ticks": ""
           }
          },
          "title": {
           "x": 0.05
          },
          "xaxis": {
           "automargin": true,
           "gridcolor": "white",
           "linecolor": "white",
           "ticks": "",
           "title": {
            "standoff": 15
           },
           "zerolinecolor": "white",
           "zerolinewidth": 2
          },
          "yaxis": {
           "automargin": true,
           "gridcolor": "white",
           "linecolor": "white",
           "ticks": "",
           "title": {
            "standoff": 15
           },
           "zerolinecolor": "white",
           "zerolinewidth": 2
          }
         }
        },
        "title": {
         "text": "Freedom to make Life Choices in 10 World Regions from 2006-2020"
        },
        "xaxis": {
         "anchor": "y",
         "domain": [
          0,
          1
         ],
         "title": {
          "text": "Year"
         }
        },
        "yaxis": {
         "anchor": "x",
         "domain": [
          0,
          1
         ],
         "title": {
          "text": "Freedom to make Life Choices(Index)"
         }
        }
       }
      },
      "text/html": [
       "<div>                            <div id=\"5608a0e2-f866-42d7-bfbe-fd0de9ce1542\" class=\"plotly-graph-div\" style=\"height:525px; width:100%;\"></div>            <script type=\"text/javascript\">                require([\"plotly\"], function(Plotly) {                    window.PLOTLYENV=window.PLOTLYENV || {};                                    if (document.getElementById(\"5608a0e2-f866-42d7-bfbe-fd0de9ce1542\")) {                    Plotly.newPlot(                        \"5608a0e2-f866-42d7-bfbe-fd0de9ce1542\",                        [{\"hovertemplate\":\"region=Central and Eastern Europe<br>Year=%{x}<br>Freedom to make Life Choices(Index)=%{y}<extra></extra>\",\"legendgroup\":\"Central and Eastern Europe\",\"line\":{\"color\":\"#636efa\",\"dash\":\"solid\"},\"mode\":\"lines\",\"name\":\"Central and Eastern Europe\",\"orientation\":\"v\",\"showlegend\":true,\"type\":\"scatter\",\"x\":[\"2006\",\"2008\",\"2010\",\"2012\",\"2014\",\"2016\",\"2018\",\"2020\"],\"xaxis\":\"x\",\"y\":[0.687,0.631,0.5818,0.6135294117647059,0.633,0.7231764705882353,0.7641176470588236,0.8264374999999999],\"yaxis\":\"y\"},{\"hovertemplate\":\"region=Commonwealth of Independent States<br>Year=%{x}<br>Freedom to make Life Choices(Index)=%{y}<extra></extra>\",\"legendgroup\":\"Commonwealth of Independent States\",\"line\":{\"color\":\"#EF553B\",\"dash\":\"solid\"},\"mode\":\"lines\",\"name\":\"Commonwealth of Independent States\",\"orientation\":\"v\",\"showlegend\":true,\"type\":\"scatter\",\"x\":[\"2006\",\"2008\",\"2010\",\"2012\",\"2014\",\"2016\",\"2018\",\"2020\"],\"xaxis\":\"x\",\"y\":[0.6607272727272727,0.6528181818181819,0.6202,0.681,0.7210833333333334,0.6995833333333333,0.8025454545454545,0.8213333333333334],\"yaxis\":\"y\"},{\"hovertemplate\":\"region=East Asia<br>Year=%{x}<br>Freedom to make Life Choices(Index)=%{y}<extra></extra>\",\"legendgroup\":\"East Asia\",\"line\":{\"color\":\"#00cc96\",\"dash\":\"solid\"},\"mode\":\"lines\",\"name\":\"East Asia\",\"orientation\":\"v\",\"showlegend\":true,\"type\":\"scatter\",\"x\":[\"2006\",\"2008\",\"2010\",\"2012\",\"2014\",\"2016\",\"2018\",\"2020\"],\"xaxis\":\"x\",\"y\":[0.7516666666666666,0.6995,0.742,0.7408333333333333,0.7497999999999999,0.7412,0.741,0.7716666666666666],\"yaxis\":\"y\"},{\"hovertemplate\":\"region=Latin America and Caribbean<br>Year=%{x}<br>Freedom to make Life Choices(Index)=%{y}<extra></extra>\",\"legendgroup\":\"Latin America and Caribbean\",\"line\":{\"color\":\"#ab63fa\",\"dash\":\"solid\"},\"mode\":\"lines\",\"name\":\"Latin America and Caribbean\",\"orientation\":\"v\",\"showlegend\":true,\"type\":\"scatter\",\"x\":[\"2006\",\"2008\",\"2010\",\"2012\",\"2014\",\"2016\",\"2018\",\"2020\"],\"xaxis\":\"x\",\"y\":[0.7353888888888889,0.7045789473684211,0.7400526315789474,0.7837368421052632,0.77525,0.7796842105263158,0.8225,0.8261818181818181],\"yaxis\":\"y\"},{\"hovertemplate\":\"region=Middle East and North Africa<br>Year=%{x}<br>Freedom to make Life Choices(Index)=%{y}<extra></extra>\",\"legendgroup\":\"Middle East and North Africa\",\"line\":{\"color\":\"#FFA15A\",\"dash\":\"solid\"},\"mode\":\"lines\",\"name\":\"Middle East and North Africa\",\"orientation\":\"v\",\"showlegend\":true,\"type\":\"scatter\",\"x\":[\"2006\",\"2008\",\"2010\",\"2012\",\"2014\",\"2016\",\"2018\",\"2020\"],\"xaxis\":\"x\",\"y\":[0.7402,0.497,0.6407333333333334,0.645,0.6731818181818182,0.736625,0.6866666666666668,0.768],\"yaxis\":\"y\"},{\"hovertemplate\":\"region=North America and ANZ<br>Year=%{x}<br>Freedom to make Life Choices(Index)=%{y}<extra></extra>\",\"legendgroup\":\"North America and ANZ\",\"line\":{\"color\":\"#19d3f3\",\"dash\":\"solid\"},\"mode\":\"lines\",\"name\":\"North America and ANZ\",\"orientation\":\"v\",\"showlegend\":true,\"type\":\"scatter\",\"x\":[\"2006\",\"2008\",\"2010\",\"2012\",\"2014\",\"2016\",\"2018\",\"2020\"],\"xaxis\":\"x\",\"y\":[0.9215,0.90325,0.903,0.8945000000000001,0.915,0.87975,0.909,0.89],\"yaxis\":\"y\"},{\"hovertemplate\":\"region=South Asia<br>Year=%{x}<br>Freedom to make Life Choices(Index)=%{y}<extra></extra>\",\"legendgroup\":\"South Asia\",\"line\":{\"color\":\"#FF6692\",\"dash\":\"solid\"},\"mode\":\"lines\",\"name\":\"South Asia\",\"orientation\":\"v\",\"showlegend\":true,\"type\":\"scatter\",\"x\":[\"2006\",\"2008\",\"2010\",\"2012\",\"2014\",\"2016\",\"2018\",\"2020\"],\"xaxis\":\"x\",\"y\":[0.69975,0.6445,0.6105,0.6021666666666666,0.6961666666666666,0.7382,0.7745714285714286,0.8415],\"yaxis\":\"y\"},{\"hovertemplate\":\"region=Southeast Asia<br>Year=%{x}<br>Freedom to make Life Choices(Index)=%{y}<extra></extra>\",\"legendgroup\":\"Southeast Asia\",\"line\":{\"color\":\"#B6E880\",\"dash\":\"solid\"},\"mode\":\"lines\",\"name\":\"Southeast Asia\",\"orientation\":\"v\",\"showlegend\":true,\"type\":\"scatter\",\"x\":[\"2006\",\"2008\",\"2010\",\"2012\",\"2014\",\"2016\",\"2018\",\"2020\"],\"xaxis\":\"x\",\"y\":[0.8298571428571428,0.806875,0.8341428571428571,0.8402857142857142,0.8503333333333334,0.8992857142857142,0.9081111111111111,0.8949999999999999],\"yaxis\":\"y\"},{\"hovertemplate\":\"region=Sub-Saharan Africa<br>Year=%{x}<br>Freedom to make Life Choices(Index)=%{y}<extra></extra>\",\"legendgroup\":\"Sub-Saharan Africa\",\"line\":{\"color\":\"#FF97FF\",\"dash\":\"solid\"},\"mode\":\"lines\",\"name\":\"Sub-Saharan Africa\",\"orientation\":\"v\",\"showlegend\":true,\"type\":\"scatter\",\"x\":[\"2006\",\"2008\",\"2010\",\"2012\",\"2014\",\"2016\",\"2018\",\"2020\"],\"xaxis\":\"x\",\"y\":[0.6720952380952381,0.5895199999999999,0.7049444444444445,0.65596,0.7015333333333333,0.7330666666666666,0.7353142857142857,0.7437142857142858],\"yaxis\":\"y\"},{\"hovertemplate\":\"region=Western Europe<br>Year=%{x}<br>Freedom to make Life Choices(Index)=%{y}<extra></extra>\",\"legendgroup\":\"Western Europe\",\"line\":{\"color\":\"#FECB52\",\"dash\":\"solid\"},\"mode\":\"lines\",\"name\":\"Western Europe\",\"orientation\":\"v\",\"showlegend\":true,\"type\":\"scatter\",\"x\":[\"2006\",\"2008\",\"2010\",\"2012\",\"2014\",\"2016\",\"2018\",\"2020\"],\"xaxis\":\"x\",\"y\":[0.904875,0.8381333333333333,0.822529411764706,0.8310000000000001,0.8413499999999999,0.8443809523809523,0.8470000000000001,0.8643684210526315],\"yaxis\":\"y\"}],                        {\"legend\":{\"title\":{\"text\":\"region\"},\"tracegroupgap\":0},\"template\":{\"data\":{\"bar\":[{\"error_x\":{\"color\":\"#2a3f5f\"},\"error_y\":{\"color\":\"#2a3f5f\"},\"marker\":{\"line\":{\"color\":\"#E5ECF6\",\"width\":0.5},\"pattern\":{\"fillmode\":\"overlay\",\"size\":10,\"solidity\":0.2}},\"type\":\"bar\"}],\"barpolar\":[{\"marker\":{\"line\":{\"color\":\"#E5ECF6\",\"width\":0.5},\"pattern\":{\"fillmode\":\"overlay\",\"size\":10,\"solidity\":0.2}},\"type\":\"barpolar\"}],\"carpet\":[{\"aaxis\":{\"endlinecolor\":\"#2a3f5f\",\"gridcolor\":\"white\",\"linecolor\":\"white\",\"minorgridcolor\":\"white\",\"startlinecolor\":\"#2a3f5f\"},\"baxis\":{\"endlinecolor\":\"#2a3f5f\",\"gridcolor\":\"white\",\"linecolor\":\"white\",\"minorgridcolor\":\"white\",\"startlinecolor\":\"#2a3f5f\"},\"type\":\"carpet\"}],\"choropleth\":[{\"colorbar\":{\"outlinewidth\":0,\"ticks\":\"\"},\"type\":\"choropleth\"}],\"contour\":[{\"colorbar\":{\"outlinewidth\":0,\"ticks\":\"\"},\"colorscale\":[[0.0,\"#0d0887\"],[0.1111111111111111,\"#46039f\"],[0.2222222222222222,\"#7201a8\"],[0.3333333333333333,\"#9c179e\"],[0.4444444444444444,\"#bd3786\"],[0.5555555555555556,\"#d8576b\"],[0.6666666666666666,\"#ed7953\"],[0.7777777777777778,\"#fb9f3a\"],[0.8888888888888888,\"#fdca26\"],[1.0,\"#f0f921\"]],\"type\":\"contour\"}],\"contourcarpet\":[{\"colorbar\":{\"outlinewidth\":0,\"ticks\":\"\"},\"type\":\"contourcarpet\"}],\"heatmap\":[{\"colorbar\":{\"outlinewidth\":0,\"ticks\":\"\"},\"colorscale\":[[0.0,\"#0d0887\"],[0.1111111111111111,\"#46039f\"],[0.2222222222222222,\"#7201a8\"],[0.3333333333333333,\"#9c179e\"],[0.4444444444444444,\"#bd3786\"],[0.5555555555555556,\"#d8576b\"],[0.6666666666666666,\"#ed7953\"],[0.7777777777777778,\"#fb9f3a\"],[0.8888888888888888,\"#fdca26\"],[1.0,\"#f0f921\"]],\"type\":\"heatmap\"}],\"heatmapgl\":[{\"colorbar\":{\"outlinewidth\":0,\"ticks\":\"\"},\"colorscale\":[[0.0,\"#0d0887\"],[0.1111111111111111,\"#46039f\"],[0.2222222222222222,\"#7201a8\"],[0.3333333333333333,\"#9c179e\"],[0.4444444444444444,\"#bd3786\"],[0.5555555555555556,\"#d8576b\"],[0.6666666666666666,\"#ed7953\"],[0.7777777777777778,\"#fb9f3a\"],[0.8888888888888888,\"#fdca26\"],[1.0,\"#f0f921\"]],\"type\":\"heatmapgl\"}],\"histogram\":[{\"marker\":{\"pattern\":{\"fillmode\":\"overlay\",\"size\":10,\"solidity\":0.2}},\"type\":\"histogram\"}],\"histogram2d\":[{\"colorbar\":{\"outlinewidth\":0,\"ticks\":\"\"},\"colorscale\":[[0.0,\"#0d0887\"],[0.1111111111111111,\"#46039f\"],[0.2222222222222222,\"#7201a8\"],[0.3333333333333333,\"#9c179e\"],[0.4444444444444444,\"#bd3786\"],[0.5555555555555556,\"#d8576b\"],[0.6666666666666666,\"#ed7953\"],[0.7777777777777778,\"#fb9f3a\"],[0.8888888888888888,\"#fdca26\"],[1.0,\"#f0f921\"]],\"type\":\"histogram2d\"}],\"histogram2dcontour\":[{\"colorbar\":{\"outlinewidth\":0,\"ticks\":\"\"},\"colorscale\":[[0.0,\"#0d0887\"],[0.1111111111111111,\"#46039f\"],[0.2222222222222222,\"#7201a8\"],[0.3333333333333333,\"#9c179e\"],[0.4444444444444444,\"#bd3786\"],[0.5555555555555556,\"#d8576b\"],[0.6666666666666666,\"#ed7953\"],[0.7777777777777778,\"#fb9f3a\"],[0.8888888888888888,\"#fdca26\"],[1.0,\"#f0f921\"]],\"type\":\"histogram2dcontour\"}],\"mesh3d\":[{\"colorbar\":{\"outlinewidth\":0,\"ticks\":\"\"},\"type\":\"mesh3d\"}],\"parcoords\":[{\"line\":{\"colorbar\":{\"outlinewidth\":0,\"ticks\":\"\"}},\"type\":\"parcoords\"}],\"pie\":[{\"automargin\":true,\"type\":\"pie\"}],\"scatter\":[{\"marker\":{\"colorbar\":{\"outlinewidth\":0,\"ticks\":\"\"}},\"type\":\"scatter\"}],\"scatter3d\":[{\"line\":{\"colorbar\":{\"outlinewidth\":0,\"ticks\":\"\"}},\"marker\":{\"colorbar\":{\"outlinewidth\":0,\"ticks\":\"\"}},\"type\":\"scatter3d\"}],\"scattercarpet\":[{\"marker\":{\"colorbar\":{\"outlinewidth\":0,\"ticks\":\"\"}},\"type\":\"scattercarpet\"}],\"scattergeo\":[{\"marker\":{\"colorbar\":{\"outlinewidth\":0,\"ticks\":\"\"}},\"type\":\"scattergeo\"}],\"scattergl\":[{\"marker\":{\"colorbar\":{\"outlinewidth\":0,\"ticks\":\"\"}},\"type\":\"scattergl\"}],\"scattermapbox\":[{\"marker\":{\"colorbar\":{\"outlinewidth\":0,\"ticks\":\"\"}},\"type\":\"scattermapbox\"}],\"scatterpolar\":[{\"marker\":{\"colorbar\":{\"outlinewidth\":0,\"ticks\":\"\"}},\"type\":\"scatterpolar\"}],\"scatterpolargl\":[{\"marker\":{\"colorbar\":{\"outlinewidth\":0,\"ticks\":\"\"}},\"type\":\"scatterpolargl\"}],\"scatterternary\":[{\"marker\":{\"colorbar\":{\"outlinewidth\":0,\"ticks\":\"\"}},\"type\":\"scatterternary\"}],\"surface\":[{\"colorbar\":{\"outlinewidth\":0,\"ticks\":\"\"},\"colorscale\":[[0.0,\"#0d0887\"],[0.1111111111111111,\"#46039f\"],[0.2222222222222222,\"#7201a8\"],[0.3333333333333333,\"#9c179e\"],[0.4444444444444444,\"#bd3786\"],[0.5555555555555556,\"#d8576b\"],[0.6666666666666666,\"#ed7953\"],[0.7777777777777778,\"#fb9f3a\"],[0.8888888888888888,\"#fdca26\"],[1.0,\"#f0f921\"]],\"type\":\"surface\"}],\"table\":[{\"cells\":{\"fill\":{\"color\":\"#EBF0F8\"},\"line\":{\"color\":\"white\"}},\"header\":{\"fill\":{\"color\":\"#C8D4E3\"},\"line\":{\"color\":\"white\"}},\"type\":\"table\"}]},\"layout\":{\"annotationdefaults\":{\"arrowcolor\":\"#2a3f5f\",\"arrowhead\":0,\"arrowwidth\":1},\"autotypenumbers\":\"strict\",\"coloraxis\":{\"colorbar\":{\"outlinewidth\":0,\"ticks\":\"\"}},\"colorscale\":{\"diverging\":[[0,\"#8e0152\"],[0.1,\"#c51b7d\"],[0.2,\"#de77ae\"],[0.3,\"#f1b6da\"],[0.4,\"#fde0ef\"],[0.5,\"#f7f7f7\"],[0.6,\"#e6f5d0\"],[0.7,\"#b8e186\"],[0.8,\"#7fbc41\"],[0.9,\"#4d9221\"],[1,\"#276419\"]],\"sequential\":[[0.0,\"#0d0887\"],[0.1111111111111111,\"#46039f\"],[0.2222222222222222,\"#7201a8\"],[0.3333333333333333,\"#9c179e\"],[0.4444444444444444,\"#bd3786\"],[0.5555555555555556,\"#d8576b\"],[0.6666666666666666,\"#ed7953\"],[0.7777777777777778,\"#fb9f3a\"],[0.8888888888888888,\"#fdca26\"],[1.0,\"#f0f921\"]],\"sequentialminus\":[[0.0,\"#0d0887\"],[0.1111111111111111,\"#46039f\"],[0.2222222222222222,\"#7201a8\"],[0.3333333333333333,\"#9c179e\"],[0.4444444444444444,\"#bd3786\"],[0.5555555555555556,\"#d8576b\"],[0.6666666666666666,\"#ed7953\"],[0.7777777777777778,\"#fb9f3a\"],[0.8888888888888888,\"#fdca26\"],[1.0,\"#f0f921\"]]},\"colorway\":[\"#636efa\",\"#EF553B\",\"#00cc96\",\"#ab63fa\",\"#FFA15A\",\"#19d3f3\",\"#FF6692\",\"#B6E880\",\"#FF97FF\",\"#FECB52\"],\"font\":{\"color\":\"#2a3f5f\"},\"geo\":{\"bgcolor\":\"white\",\"lakecolor\":\"white\",\"landcolor\":\"#E5ECF6\",\"showlakes\":true,\"showland\":true,\"subunitcolor\":\"white\"},\"hoverlabel\":{\"align\":\"left\"},\"hovermode\":\"closest\",\"mapbox\":{\"style\":\"light\"},\"paper_bgcolor\":\"white\",\"plot_bgcolor\":\"#E5ECF6\",\"polar\":{\"angularaxis\":{\"gridcolor\":\"white\",\"linecolor\":\"white\",\"ticks\":\"\"},\"bgcolor\":\"#E5ECF6\",\"radialaxis\":{\"gridcolor\":\"white\",\"linecolor\":\"white\",\"ticks\":\"\"}},\"scene\":{\"xaxis\":{\"backgroundcolor\":\"#E5ECF6\",\"gridcolor\":\"white\",\"gridwidth\":2,\"linecolor\":\"white\",\"showbackground\":true,\"ticks\":\"\",\"zerolinecolor\":\"white\"},\"yaxis\":{\"backgroundcolor\":\"#E5ECF6\",\"gridcolor\":\"white\",\"gridwidth\":2,\"linecolor\":\"white\",\"showbackground\":true,\"ticks\":\"\",\"zerolinecolor\":\"white\"},\"zaxis\":{\"backgroundcolor\":\"#E5ECF6\",\"gridcolor\":\"white\",\"gridwidth\":2,\"linecolor\":\"white\",\"showbackground\":true,\"ticks\":\"\",\"zerolinecolor\":\"white\"}},\"shapedefaults\":{\"line\":{\"color\":\"#2a3f5f\"}},\"ternary\":{\"aaxis\":{\"gridcolor\":\"white\",\"linecolor\":\"white\",\"ticks\":\"\"},\"baxis\":{\"gridcolor\":\"white\",\"linecolor\":\"white\",\"ticks\":\"\"},\"bgcolor\":\"#E5ECF6\",\"caxis\":{\"gridcolor\":\"white\",\"linecolor\":\"white\",\"ticks\":\"\"}},\"title\":{\"x\":0.05},\"xaxis\":{\"automargin\":true,\"gridcolor\":\"white\",\"linecolor\":\"white\",\"ticks\":\"\",\"title\":{\"standoff\":15},\"zerolinecolor\":\"white\",\"zerolinewidth\":2},\"yaxis\":{\"automargin\":true,\"gridcolor\":\"white\",\"linecolor\":\"white\",\"ticks\":\"\",\"title\":{\"standoff\":15},\"zerolinecolor\":\"white\",\"zerolinewidth\":2}}},\"title\":{\"text\":\"Freedom to make Life Choices in 10 World Regions from 2006-2020\"},\"xaxis\":{\"anchor\":\"y\",\"domain\":[0.0,1.0],\"title\":{\"text\":\"Year\"}},\"yaxis\":{\"anchor\":\"x\",\"domain\":[0.0,1.0],\"title\":{\"text\":\"Freedom to make Life Choices(Index)\"}}},                        {\"responsive\": true}                    ).then(function(){\n",
       "                            \n",
       "var gd = document.getElementById('5608a0e2-f866-42d7-bfbe-fd0de9ce1542');\n",
       "var x = new MutationObserver(function (mutations, observer) {{\n",
       "        var display = window.getComputedStyle(gd).display;\n",
       "        if (!display || display === 'none') {{\n",
       "            console.log([gd, 'removed!']);\n",
       "            Plotly.purge(gd);\n",
       "            observer.disconnect();\n",
       "        }}\n",
       "}});\n",
       "\n",
       "// Listen for the removal of the full notebook cells\n",
       "var notebookContainer = gd.closest('#notebook-container');\n",
       "if (notebookContainer) {{\n",
       "    x.observe(notebookContainer, {childList: true});\n",
       "}}\n",
       "\n",
       "// Listen for the clearing of the current output cell\n",
       "var outputEl = gd.closest('.output');\n",
       "if (outputEl) {{\n",
       "    x.observe(outputEl, {childList: true});\n",
       "}}\n",
       "\n",
       "                        })                };                });            </script>        </div>"
      ]
     },
     "metadata": {},
     "output_type": "display_data"
    }
   ],
   "source": [
    "# imports\n",
    "import pandas as pd \n",
    "import plotly.express as px\n",
    "\n",
    "#getting/merging the data\n",
    "df2 = pd.read_csv (r'C:\\Users\\Meena Krishnan\\Downloads\\world-happiness-report (1).csv') \n",
    "df3 = pd.read_csv (r'C:\\Users\\Meena Krishnan\\Downloads\\world-happiness-report-2021.csv')\n",
    "df2 = pd.DataFrame(df2, columns = ['Country name', 'year', 'Freedom to make life choices'])\n",
    "df3 = pd.DataFrame(df3, columns = ['Country name', 'Regional indicator'])\n",
    "merged_df = pd.merge(df2, df3, on ='Country name', how ='inner')\n",
    "merged_df = pd.DataFrame(merged_df, columns = ['Regional indicator', 'year', 'Freedom to make life choices', 'Country name'])\n",
    "\n",
    "#renaming columns\n",
    "merged_df = merged_df.rename(columns={\"Freedom to make life choices\":\"life_choice\", \"Regional indicator\":\"region\", \"Country name\":\"country\"})\n",
    "\n",
    "#making seperate data frames based on years\n",
    "df_2006 = merged_df[merged_df.year == 2006]\n",
    "df_2008 = merged_df[merged_df.year == 2008]\n",
    "df_2010 = merged_df[merged_df.year == 2010]\n",
    "df_2012 = merged_df[merged_df.year == 2012]\n",
    "df_2014 = merged_df[merged_df.year == 2014]\n",
    "df_2016 = merged_df[merged_df.year == 2016]\n",
    "df_2018 = merged_df[merged_df.year == 2018]\n",
    "df_2020 = merged_df[merged_df.year == 2020]\n",
    "\n",
    "#getting means of countries for each year\n",
    "series_2006 = df_2006.groupby(['region'])['life_choice'].mean()\n",
    "series_2008 = df_2008.groupby(['region'])['life_choice'].mean()\n",
    "series_2010 = df_2010.groupby(['region'])['life_choice'].mean()\n",
    "series_2012 = df_2012.groupby(['region'])['life_choice'].mean()\n",
    "series_2014 = df_2014.groupby(['region'])['life_choice'].mean()\n",
    "series_2016 = df_2016.groupby(['region'])['life_choice'].mean()\n",
    "series_2018 = df_2018.groupby(['region'])['life_choice'].mean()\n",
    "series_2020 = df_2020.groupby(['region'])['life_choice'].mean()\n",
    "\n",
    "#creating mega data frame\n",
    "megadf = pd.DataFrame({'2006': series_2006, '2008': series_2008, \n",
    "              '2010': series_2010, '2012': series_2012, \n",
    "              '2014': series_2014, '2016': series_2016, \n",
    "              '2018': series_2018, '2020': series_2020})\n",
    "\n",
    "#creating graph \n",
    "line_fig = megadf.T.plot(title=\"Freedom to make Life Choices in 10 World Regions from 2006-2020\",\n",
    "              labels=dict(index=\"Year\", value=\"Freedom to make Life Choices(Index)\", variable=\"Region\"))\n",
    "line_fig"
   ]
  },
  {
   "cell_type": "code",
   "execution_count": 180,
   "id": "1d97dd17",
   "metadata": {},
   "outputs": [
    {
     "data": {
      "application/vnd.plotly.v1+json": {
       "config": {
        "plotlyServerURL": "https://plot.ly"
       },
       "data": [
        {
         "alignmentgroup": "True",
         "hovertemplate": "Region=%{x}<br>Life Expectancy=%{y}<br>Social Support Index=%{marker.color}<extra></extra>",
         "legendgroup": "",
         "marker": {
          "color": [
           0.854453,
           0.828559,
           0.849841,
           0.850566,
           0.789551,
           0.939107,
           0.654048,
           0.809035,
           0.714482,
           0.917092
          ],
          "coloraxis": "coloraxis",
          "line": {
           "color": "rgb(0,0,0)"
          },
          "pattern": {
           "shape": ""
          }
         },
         "name": "",
         "offsetgroup": "",
         "opacity": 0.7,
         "orientation": "v",
         "showlegend": false,
         "textposition": "auto",
         "type": "bar",
         "x": [
          "Central and Eastern Europe",
          "Commonwealth of Independent States",
          "East Asia",
          "Latin America and Caribbean",
          "Middle East and North Africa",
          "North America and ANZ",
          "South Asia",
          "Southeast Asia",
          "Sub-Saharan Africa",
          "Western Europe"
         ],
         "xaxis": "x",
         "y": [
          68.306702,
          65.059947,
          71.234329,
          67.20967,
          65.779057,
          72.27931,
          61.643881,
          65.214121,
          56.031585,
          73.005705
         ],
         "yaxis": "y"
        }
       ],
       "layout": {
        "barmode": "stack",
        "coloraxis": {
         "colorbar": {
          "title": {
           "text": "Social Support Index"
          }
         },
         "colorscale": [
          [
           0,
           "#440154"
          ],
          [
           0.1111111111111111,
           "#482878"
          ],
          [
           0.2222222222222222,
           "#3e4989"
          ],
          [
           0.3333333333333333,
           "#31688e"
          ],
          [
           0.4444444444444444,
           "#26828e"
          ],
          [
           0.5555555555555556,
           "#1f9e89"
          ],
          [
           0.6666666666666666,
           "#35b779"
          ],
          [
           0.7777777777777778,
           "#6ece58"
          ],
          [
           0.8888888888888888,
           "#b5de2b"
          ],
          [
           1,
           "#fde725"
          ]
         ]
        },
        "height": 500,
        "legend": {
         "tracegroupgap": 0
        },
        "margin": {
         "t": 60
        },
        "template": {
         "data": {
          "bar": [
           {
            "error_x": {
             "color": "rgb(36,36,36)"
            },
            "error_y": {
             "color": "rgb(36,36,36)"
            },
            "marker": {
             "line": {
              "color": "white",
              "width": 0.5
             },
             "pattern": {
              "fillmode": "overlay",
              "size": 10,
              "solidity": 0.2
             }
            },
            "type": "bar"
           }
          ],
          "barpolar": [
           {
            "marker": {
             "line": {
              "color": "white",
              "width": 0.5
             },
             "pattern": {
              "fillmode": "overlay",
              "size": 10,
              "solidity": 0.2
             }
            },
            "type": "barpolar"
           }
          ],
          "carpet": [
           {
            "aaxis": {
             "endlinecolor": "rgb(36,36,36)",
             "gridcolor": "white",
             "linecolor": "white",
             "minorgridcolor": "white",
             "startlinecolor": "rgb(36,36,36)"
            },
            "baxis": {
             "endlinecolor": "rgb(36,36,36)",
             "gridcolor": "white",
             "linecolor": "white",
             "minorgridcolor": "white",
             "startlinecolor": "rgb(36,36,36)"
            },
            "type": "carpet"
           }
          ],
          "choropleth": [
           {
            "colorbar": {
             "outlinewidth": 1,
             "tickcolor": "rgb(36,36,36)",
             "ticks": "outside"
            },
            "type": "choropleth"
           }
          ],
          "contour": [
           {
            "colorbar": {
             "outlinewidth": 1,
             "tickcolor": "rgb(36,36,36)",
             "ticks": "outside"
            },
            "colorscale": [
             [
              0,
              "#440154"
             ],
             [
              0.1111111111111111,
              "#482878"
             ],
             [
              0.2222222222222222,
              "#3e4989"
             ],
             [
              0.3333333333333333,
              "#31688e"
             ],
             [
              0.4444444444444444,
              "#26828e"
             ],
             [
              0.5555555555555556,
              "#1f9e89"
             ],
             [
              0.6666666666666666,
              "#35b779"
             ],
             [
              0.7777777777777778,
              "#6ece58"
             ],
             [
              0.8888888888888888,
              "#b5de2b"
             ],
             [
              1,
              "#fde725"
             ]
            ],
            "type": "contour"
           }
          ],
          "contourcarpet": [
           {
            "colorbar": {
             "outlinewidth": 1,
             "tickcolor": "rgb(36,36,36)",
             "ticks": "outside"
            },
            "type": "contourcarpet"
           }
          ],
          "heatmap": [
           {
            "colorbar": {
             "outlinewidth": 1,
             "tickcolor": "rgb(36,36,36)",
             "ticks": "outside"
            },
            "colorscale": [
             [
              0,
              "#440154"
             ],
             [
              0.1111111111111111,
              "#482878"
             ],
             [
              0.2222222222222222,
              "#3e4989"
             ],
             [
              0.3333333333333333,
              "#31688e"
             ],
             [
              0.4444444444444444,
              "#26828e"
             ],
             [
              0.5555555555555556,
              "#1f9e89"
             ],
             [
              0.6666666666666666,
              "#35b779"
             ],
             [
              0.7777777777777778,
              "#6ece58"
             ],
             [
              0.8888888888888888,
              "#b5de2b"
             ],
             [
              1,
              "#fde725"
             ]
            ],
            "type": "heatmap"
           }
          ],
          "heatmapgl": [
           {
            "colorbar": {
             "outlinewidth": 1,
             "tickcolor": "rgb(36,36,36)",
             "ticks": "outside"
            },
            "colorscale": [
             [
              0,
              "#440154"
             ],
             [
              0.1111111111111111,
              "#482878"
             ],
             [
              0.2222222222222222,
              "#3e4989"
             ],
             [
              0.3333333333333333,
              "#31688e"
             ],
             [
              0.4444444444444444,
              "#26828e"
             ],
             [
              0.5555555555555556,
              "#1f9e89"
             ],
             [
              0.6666666666666666,
              "#35b779"
             ],
             [
              0.7777777777777778,
              "#6ece58"
             ],
             [
              0.8888888888888888,
              "#b5de2b"
             ],
             [
              1,
              "#fde725"
             ]
            ],
            "type": "heatmapgl"
           }
          ],
          "histogram": [
           {
            "marker": {
             "line": {
              "color": "white",
              "width": 0.6
             }
            },
            "type": "histogram"
           }
          ],
          "histogram2d": [
           {
            "colorbar": {
             "outlinewidth": 1,
             "tickcolor": "rgb(36,36,36)",
             "ticks": "outside"
            },
            "colorscale": [
             [
              0,
              "#440154"
             ],
             [
              0.1111111111111111,
              "#482878"
             ],
             [
              0.2222222222222222,
              "#3e4989"
             ],
             [
              0.3333333333333333,
              "#31688e"
             ],
             [
              0.4444444444444444,
              "#26828e"
             ],
             [
              0.5555555555555556,
              "#1f9e89"
             ],
             [
              0.6666666666666666,
              "#35b779"
             ],
             [
              0.7777777777777778,
              "#6ece58"
             ],
             [
              0.8888888888888888,
              "#b5de2b"
             ],
             [
              1,
              "#fde725"
             ]
            ],
            "type": "histogram2d"
           }
          ],
          "histogram2dcontour": [
           {
            "colorbar": {
             "outlinewidth": 1,
             "tickcolor": "rgb(36,36,36)",
             "ticks": "outside"
            },
            "colorscale": [
             [
              0,
              "#440154"
             ],
             [
              0.1111111111111111,
              "#482878"
             ],
             [
              0.2222222222222222,
              "#3e4989"
             ],
             [
              0.3333333333333333,
              "#31688e"
             ],
             [
              0.4444444444444444,
              "#26828e"
             ],
             [
              0.5555555555555556,
              "#1f9e89"
             ],
             [
              0.6666666666666666,
              "#35b779"
             ],
             [
              0.7777777777777778,
              "#6ece58"
             ],
             [
              0.8888888888888888,
              "#b5de2b"
             ],
             [
              1,
              "#fde725"
             ]
            ],
            "type": "histogram2dcontour"
           }
          ],
          "mesh3d": [
           {
            "colorbar": {
             "outlinewidth": 1,
             "tickcolor": "rgb(36,36,36)",
             "ticks": "outside"
            },
            "type": "mesh3d"
           }
          ],
          "parcoords": [
           {
            "line": {
             "colorbar": {
              "outlinewidth": 1,
              "tickcolor": "rgb(36,36,36)",
              "ticks": "outside"
             }
            },
            "type": "parcoords"
           }
          ],
          "pie": [
           {
            "automargin": true,
            "type": "pie"
           }
          ],
          "scatter": [
           {
            "marker": {
             "colorbar": {
              "outlinewidth": 1,
              "tickcolor": "rgb(36,36,36)",
              "ticks": "outside"
             }
            },
            "type": "scatter"
           }
          ],
          "scatter3d": [
           {
            "line": {
             "colorbar": {
              "outlinewidth": 1,
              "tickcolor": "rgb(36,36,36)",
              "ticks": "outside"
             }
            },
            "marker": {
             "colorbar": {
              "outlinewidth": 1,
              "tickcolor": "rgb(36,36,36)",
              "ticks": "outside"
             }
            },
            "type": "scatter3d"
           }
          ],
          "scattercarpet": [
           {
            "marker": {
             "colorbar": {
              "outlinewidth": 1,
              "tickcolor": "rgb(36,36,36)",
              "ticks": "outside"
             }
            },
            "type": "scattercarpet"
           }
          ],
          "scattergeo": [
           {
            "marker": {
             "colorbar": {
              "outlinewidth": 1,
              "tickcolor": "rgb(36,36,36)",
              "ticks": "outside"
             }
            },
            "type": "scattergeo"
           }
          ],
          "scattergl": [
           {
            "marker": {
             "colorbar": {
              "outlinewidth": 1,
              "tickcolor": "rgb(36,36,36)",
              "ticks": "outside"
             }
            },
            "type": "scattergl"
           }
          ],
          "scattermapbox": [
           {
            "marker": {
             "colorbar": {
              "outlinewidth": 1,
              "tickcolor": "rgb(36,36,36)",
              "ticks": "outside"
             }
            },
            "type": "scattermapbox"
           }
          ],
          "scatterpolar": [
           {
            "marker": {
             "colorbar": {
              "outlinewidth": 1,
              "tickcolor": "rgb(36,36,36)",
              "ticks": "outside"
             }
            },
            "type": "scatterpolar"
           }
          ],
          "scatterpolargl": [
           {
            "marker": {
             "colorbar": {
              "outlinewidth": 1,
              "tickcolor": "rgb(36,36,36)",
              "ticks": "outside"
             }
            },
            "type": "scatterpolargl"
           }
          ],
          "scatterternary": [
           {
            "marker": {
             "colorbar": {
              "outlinewidth": 1,
              "tickcolor": "rgb(36,36,36)",
              "ticks": "outside"
             }
            },
            "type": "scatterternary"
           }
          ],
          "surface": [
           {
            "colorbar": {
             "outlinewidth": 1,
             "tickcolor": "rgb(36,36,36)",
             "ticks": "outside"
            },
            "colorscale": [
             [
              0,
              "#440154"
             ],
             [
              0.1111111111111111,
              "#482878"
             ],
             [
              0.2222222222222222,
              "#3e4989"
             ],
             [
              0.3333333333333333,
              "#31688e"
             ],
             [
              0.4444444444444444,
              "#26828e"
             ],
             [
              0.5555555555555556,
              "#1f9e89"
             ],
             [
              0.6666666666666666,
              "#35b779"
             ],
             [
              0.7777777777777778,
              "#6ece58"
             ],
             [
              0.8888888888888888,
              "#b5de2b"
             ],
             [
              1,
              "#fde725"
             ]
            ],
            "type": "surface"
           }
          ],
          "table": [
           {
            "cells": {
             "fill": {
              "color": "rgb(237,237,237)"
             },
             "line": {
              "color": "white"
             }
            },
            "header": {
             "fill": {
              "color": "rgb(217,217,217)"
             },
             "line": {
              "color": "white"
             }
            },
            "type": "table"
           }
          ]
         },
         "layout": {
          "annotationdefaults": {
           "arrowhead": 0,
           "arrowwidth": 1
          },
          "autotypenumbers": "strict",
          "coloraxis": {
           "colorbar": {
            "outlinewidth": 1,
            "tickcolor": "rgb(36,36,36)",
            "ticks": "outside"
           }
          },
          "colorscale": {
           "diverging": [
            [
             0,
             "rgb(103,0,31)"
            ],
            [
             0.1,
             "rgb(178,24,43)"
            ],
            [
             0.2,
             "rgb(214,96,77)"
            ],
            [
             0.3,
             "rgb(244,165,130)"
            ],
            [
             0.4,
             "rgb(253,219,199)"
            ],
            [
             0.5,
             "rgb(247,247,247)"
            ],
            [
             0.6,
             "rgb(209,229,240)"
            ],
            [
             0.7,
             "rgb(146,197,222)"
            ],
            [
             0.8,
             "rgb(67,147,195)"
            ],
            [
             0.9,
             "rgb(33,102,172)"
            ],
            [
             1,
             "rgb(5,48,97)"
            ]
           ],
           "sequential": [
            [
             0,
             "#440154"
            ],
            [
             0.1111111111111111,
             "#482878"
            ],
            [
             0.2222222222222222,
             "#3e4989"
            ],
            [
             0.3333333333333333,
             "#31688e"
            ],
            [
             0.4444444444444444,
             "#26828e"
            ],
            [
             0.5555555555555556,
             "#1f9e89"
            ],
            [
             0.6666666666666666,
             "#35b779"
            ],
            [
             0.7777777777777778,
             "#6ece58"
            ],
            [
             0.8888888888888888,
             "#b5de2b"
            ],
            [
             1,
             "#fde725"
            ]
           ],
           "sequentialminus": [
            [
             0,
             "#440154"
            ],
            [
             0.1111111111111111,
             "#482878"
            ],
            [
             0.2222222222222222,
             "#3e4989"
            ],
            [
             0.3333333333333333,
             "#31688e"
            ],
            [
             0.4444444444444444,
             "#26828e"
            ],
            [
             0.5555555555555556,
             "#1f9e89"
            ],
            [
             0.6666666666666666,
             "#35b779"
            ],
            [
             0.7777777777777778,
             "#6ece58"
            ],
            [
             0.8888888888888888,
             "#b5de2b"
            ],
            [
             1,
             "#fde725"
            ]
           ]
          },
          "colorway": [
           "#1F77B4",
           "#FF7F0E",
           "#2CA02C",
           "#D62728",
           "#9467BD",
           "#8C564B",
           "#E377C2",
           "#7F7F7F",
           "#BCBD22",
           "#17BECF"
          ],
          "font": {
           "color": "rgb(36,36,36)"
          },
          "geo": {
           "bgcolor": "white",
           "lakecolor": "white",
           "landcolor": "white",
           "showlakes": true,
           "showland": true,
           "subunitcolor": "white"
          },
          "hoverlabel": {
           "align": "left"
          },
          "hovermode": "closest",
          "mapbox": {
           "style": "light"
          },
          "paper_bgcolor": "white",
          "plot_bgcolor": "white",
          "polar": {
           "angularaxis": {
            "gridcolor": "rgb(232,232,232)",
            "linecolor": "rgb(36,36,36)",
            "showgrid": false,
            "showline": true,
            "ticks": "outside"
           },
           "bgcolor": "white",
           "radialaxis": {
            "gridcolor": "rgb(232,232,232)",
            "linecolor": "rgb(36,36,36)",
            "showgrid": false,
            "showline": true,
            "ticks": "outside"
           }
          },
          "scene": {
           "xaxis": {
            "backgroundcolor": "white",
            "gridcolor": "rgb(232,232,232)",
            "gridwidth": 2,
            "linecolor": "rgb(36,36,36)",
            "showbackground": true,
            "showgrid": false,
            "showline": true,
            "ticks": "outside",
            "zeroline": false,
            "zerolinecolor": "rgb(36,36,36)"
           },
           "yaxis": {
            "backgroundcolor": "white",
            "gridcolor": "rgb(232,232,232)",
            "gridwidth": 2,
            "linecolor": "rgb(36,36,36)",
            "showbackground": true,
            "showgrid": false,
            "showline": true,
            "ticks": "outside",
            "zeroline": false,
            "zerolinecolor": "rgb(36,36,36)"
           },
           "zaxis": {
            "backgroundcolor": "white",
            "gridcolor": "rgb(232,232,232)",
            "gridwidth": 2,
            "linecolor": "rgb(36,36,36)",
            "showbackground": true,
            "showgrid": false,
            "showline": true,
            "ticks": "outside",
            "zeroline": false,
            "zerolinecolor": "rgb(36,36,36)"
           }
          },
          "shapedefaults": {
           "fillcolor": "black",
           "line": {
            "width": 0
           },
           "opacity": 0.3
          },
          "ternary": {
           "aaxis": {
            "gridcolor": "rgb(232,232,232)",
            "linecolor": "rgb(36,36,36)",
            "showgrid": false,
            "showline": true,
            "ticks": "outside"
           },
           "baxis": {
            "gridcolor": "rgb(232,232,232)",
            "linecolor": "rgb(36,36,36)",
            "showgrid": false,
            "showline": true,
            "ticks": "outside"
           },
           "bgcolor": "white",
           "caxis": {
            "gridcolor": "rgb(232,232,232)",
            "linecolor": "rgb(36,36,36)",
            "showgrid": false,
            "showline": true,
            "ticks": "outside"
           }
          },
          "title": {
           "x": 0.05
          },
          "xaxis": {
           "automargin": true,
           "gridcolor": "rgb(232,232,232)",
           "linecolor": "rgb(36,36,36)",
           "showgrid": false,
           "showline": true,
           "ticks": "outside",
           "title": {
            "standoff": 15
           },
           "zeroline": false,
           "zerolinecolor": "rgb(36,36,36)"
          },
          "yaxis": {
           "automargin": true,
           "gridcolor": "rgb(232,232,232)",
           "linecolor": "rgb(36,36,36)",
           "showgrid": false,
           "showline": true,
           "ticks": "outside",
           "title": {
            "standoff": 15
           },
           "zeroline": false,
           "zerolinecolor": "rgb(36,36,36)"
          }
         }
        },
        "title": {
         "text": "Average Life Expectancy and Social Support in Various World Regions"
        },
        "xaxis": {
         "anchor": "y",
         "categoryorder": "total descending",
         "domain": [
          0,
          1
         ],
         "title": {
          "text": "Region"
         }
        },
        "yaxis": {
         "anchor": "x",
         "domain": [
          0,
          1
         ],
         "title": {
          "text": "Life Expectancy"
         }
        }
       }
      },
      "text/html": [
       "<div>                            <div id=\"8594eeb3-501c-4e1d-80df-f408863261f1\" class=\"plotly-graph-div\" style=\"height:500px; width:100%;\"></div>            <script type=\"text/javascript\">                require([\"plotly\"], function(Plotly) {                    window.PLOTLYENV=window.PLOTLYENV || {};                                    if (document.getElementById(\"8594eeb3-501c-4e1d-80df-f408863261f1\")) {                    Plotly.newPlot(                        \"8594eeb3-501c-4e1d-80df-f408863261f1\",                        [{\"alignmentgroup\":\"True\",\"hovertemplate\":\"Region=%{x}<br>Life Expectancy=%{y}<br>Social Support Index=%{marker.color}<extra></extra>\",\"legendgroup\":\"\",\"marker\":{\"color\":[0.854453,0.828559,0.849841,0.850566,0.789551,0.939107,0.654048,0.809035,0.714482,0.917092],\"coloraxis\":\"coloraxis\",\"line\":{\"color\":\"rgb(0,0,0)\"},\"pattern\":{\"shape\":\"\"}},\"name\":\"\",\"offsetgroup\":\"\",\"opacity\":0.7,\"orientation\":\"v\",\"showlegend\":false,\"textposition\":\"auto\",\"type\":\"bar\",\"x\":[\"Central and Eastern Europe\",\"Commonwealth of Independent States\",\"East Asia\",\"Latin America and Caribbean\",\"Middle East and North Africa\",\"North America and ANZ\",\"South Asia\",\"Southeast Asia\",\"Sub-Saharan Africa\",\"Western Europe\"],\"xaxis\":\"x\",\"y\":[68.306702,65.059947,71.234329,67.20967,65.779057,72.27931,61.643881,65.214121,56.031585,73.005705],\"yaxis\":\"y\"}],                        {\"barmode\":\"stack\",\"coloraxis\":{\"colorbar\":{\"title\":{\"text\":\"Social Support Index\"}},\"colorscale\":[[0.0,\"#440154\"],[0.1111111111111111,\"#482878\"],[0.2222222222222222,\"#3e4989\"],[0.3333333333333333,\"#31688e\"],[0.4444444444444444,\"#26828e\"],[0.5555555555555556,\"#1f9e89\"],[0.6666666666666666,\"#35b779\"],[0.7777777777777778,\"#6ece58\"],[0.8888888888888888,\"#b5de2b\"],[1.0,\"#fde725\"]]},\"height\":500,\"legend\":{\"tracegroupgap\":0},\"margin\":{\"t\":60},\"template\":{\"data\":{\"bar\":[{\"error_x\":{\"color\":\"rgb(36,36,36)\"},\"error_y\":{\"color\":\"rgb(36,36,36)\"},\"marker\":{\"line\":{\"color\":\"white\",\"width\":0.5},\"pattern\":{\"fillmode\":\"overlay\",\"size\":10,\"solidity\":0.2}},\"type\":\"bar\"}],\"barpolar\":[{\"marker\":{\"line\":{\"color\":\"white\",\"width\":0.5},\"pattern\":{\"fillmode\":\"overlay\",\"size\":10,\"solidity\":0.2}},\"type\":\"barpolar\"}],\"carpet\":[{\"aaxis\":{\"endlinecolor\":\"rgb(36,36,36)\",\"gridcolor\":\"white\",\"linecolor\":\"white\",\"minorgridcolor\":\"white\",\"startlinecolor\":\"rgb(36,36,36)\"},\"baxis\":{\"endlinecolor\":\"rgb(36,36,36)\",\"gridcolor\":\"white\",\"linecolor\":\"white\",\"minorgridcolor\":\"white\",\"startlinecolor\":\"rgb(36,36,36)\"},\"type\":\"carpet\"}],\"choropleth\":[{\"colorbar\":{\"outlinewidth\":1,\"tickcolor\":\"rgb(36,36,36)\",\"ticks\":\"outside\"},\"type\":\"choropleth\"}],\"contour\":[{\"colorbar\":{\"outlinewidth\":1,\"tickcolor\":\"rgb(36,36,36)\",\"ticks\":\"outside\"},\"colorscale\":[[0.0,\"#440154\"],[0.1111111111111111,\"#482878\"],[0.2222222222222222,\"#3e4989\"],[0.3333333333333333,\"#31688e\"],[0.4444444444444444,\"#26828e\"],[0.5555555555555556,\"#1f9e89\"],[0.6666666666666666,\"#35b779\"],[0.7777777777777778,\"#6ece58\"],[0.8888888888888888,\"#b5de2b\"],[1.0,\"#fde725\"]],\"type\":\"contour\"}],\"contourcarpet\":[{\"colorbar\":{\"outlinewidth\":1,\"tickcolor\":\"rgb(36,36,36)\",\"ticks\":\"outside\"},\"type\":\"contourcarpet\"}],\"heatmap\":[{\"colorbar\":{\"outlinewidth\":1,\"tickcolor\":\"rgb(36,36,36)\",\"ticks\":\"outside\"},\"colorscale\":[[0.0,\"#440154\"],[0.1111111111111111,\"#482878\"],[0.2222222222222222,\"#3e4989\"],[0.3333333333333333,\"#31688e\"],[0.4444444444444444,\"#26828e\"],[0.5555555555555556,\"#1f9e89\"],[0.6666666666666666,\"#35b779\"],[0.7777777777777778,\"#6ece58\"],[0.8888888888888888,\"#b5de2b\"],[1.0,\"#fde725\"]],\"type\":\"heatmap\"}],\"heatmapgl\":[{\"colorbar\":{\"outlinewidth\":1,\"tickcolor\":\"rgb(36,36,36)\",\"ticks\":\"outside\"},\"colorscale\":[[0.0,\"#440154\"],[0.1111111111111111,\"#482878\"],[0.2222222222222222,\"#3e4989\"],[0.3333333333333333,\"#31688e\"],[0.4444444444444444,\"#26828e\"],[0.5555555555555556,\"#1f9e89\"],[0.6666666666666666,\"#35b779\"],[0.7777777777777778,\"#6ece58\"],[0.8888888888888888,\"#b5de2b\"],[1.0,\"#fde725\"]],\"type\":\"heatmapgl\"}],\"histogram\":[{\"marker\":{\"line\":{\"color\":\"white\",\"width\":0.6}},\"type\":\"histogram\"}],\"histogram2d\":[{\"colorbar\":{\"outlinewidth\":1,\"tickcolor\":\"rgb(36,36,36)\",\"ticks\":\"outside\"},\"colorscale\":[[0.0,\"#440154\"],[0.1111111111111111,\"#482878\"],[0.2222222222222222,\"#3e4989\"],[0.3333333333333333,\"#31688e\"],[0.4444444444444444,\"#26828e\"],[0.5555555555555556,\"#1f9e89\"],[0.6666666666666666,\"#35b779\"],[0.7777777777777778,\"#6ece58\"],[0.8888888888888888,\"#b5de2b\"],[1.0,\"#fde725\"]],\"type\":\"histogram2d\"}],\"histogram2dcontour\":[{\"colorbar\":{\"outlinewidth\":1,\"tickcolor\":\"rgb(36,36,36)\",\"ticks\":\"outside\"},\"colorscale\":[[0.0,\"#440154\"],[0.1111111111111111,\"#482878\"],[0.2222222222222222,\"#3e4989\"],[0.3333333333333333,\"#31688e\"],[0.4444444444444444,\"#26828e\"],[0.5555555555555556,\"#1f9e89\"],[0.6666666666666666,\"#35b779\"],[0.7777777777777778,\"#6ece58\"],[0.8888888888888888,\"#b5de2b\"],[1.0,\"#fde725\"]],\"type\":\"histogram2dcontour\"}],\"mesh3d\":[{\"colorbar\":{\"outlinewidth\":1,\"tickcolor\":\"rgb(36,36,36)\",\"ticks\":\"outside\"},\"type\":\"mesh3d\"}],\"parcoords\":[{\"line\":{\"colorbar\":{\"outlinewidth\":1,\"tickcolor\":\"rgb(36,36,36)\",\"ticks\":\"outside\"}},\"type\":\"parcoords\"}],\"pie\":[{\"automargin\":true,\"type\":\"pie\"}],\"scatter\":[{\"marker\":{\"colorbar\":{\"outlinewidth\":1,\"tickcolor\":\"rgb(36,36,36)\",\"ticks\":\"outside\"}},\"type\":\"scatter\"}],\"scatter3d\":[{\"line\":{\"colorbar\":{\"outlinewidth\":1,\"tickcolor\":\"rgb(36,36,36)\",\"ticks\":\"outside\"}},\"marker\":{\"colorbar\":{\"outlinewidth\":1,\"tickcolor\":\"rgb(36,36,36)\",\"ticks\":\"outside\"}},\"type\":\"scatter3d\"}],\"scattercarpet\":[{\"marker\":{\"colorbar\":{\"outlinewidth\":1,\"tickcolor\":\"rgb(36,36,36)\",\"ticks\":\"outside\"}},\"type\":\"scattercarpet\"}],\"scattergeo\":[{\"marker\":{\"colorbar\":{\"outlinewidth\":1,\"tickcolor\":\"rgb(36,36,36)\",\"ticks\":\"outside\"}},\"type\":\"scattergeo\"}],\"scattergl\":[{\"marker\":{\"colorbar\":{\"outlinewidth\":1,\"tickcolor\":\"rgb(36,36,36)\",\"ticks\":\"outside\"}},\"type\":\"scattergl\"}],\"scattermapbox\":[{\"marker\":{\"colorbar\":{\"outlinewidth\":1,\"tickcolor\":\"rgb(36,36,36)\",\"ticks\":\"outside\"}},\"type\":\"scattermapbox\"}],\"scatterpolar\":[{\"marker\":{\"colorbar\":{\"outlinewidth\":1,\"tickcolor\":\"rgb(36,36,36)\",\"ticks\":\"outside\"}},\"type\":\"scatterpolar\"}],\"scatterpolargl\":[{\"marker\":{\"colorbar\":{\"outlinewidth\":1,\"tickcolor\":\"rgb(36,36,36)\",\"ticks\":\"outside\"}},\"type\":\"scatterpolargl\"}],\"scatterternary\":[{\"marker\":{\"colorbar\":{\"outlinewidth\":1,\"tickcolor\":\"rgb(36,36,36)\",\"ticks\":\"outside\"}},\"type\":\"scatterternary\"}],\"surface\":[{\"colorbar\":{\"outlinewidth\":1,\"tickcolor\":\"rgb(36,36,36)\",\"ticks\":\"outside\"},\"colorscale\":[[0.0,\"#440154\"],[0.1111111111111111,\"#482878\"],[0.2222222222222222,\"#3e4989\"],[0.3333333333333333,\"#31688e\"],[0.4444444444444444,\"#26828e\"],[0.5555555555555556,\"#1f9e89\"],[0.6666666666666666,\"#35b779\"],[0.7777777777777778,\"#6ece58\"],[0.8888888888888888,\"#b5de2b\"],[1.0,\"#fde725\"]],\"type\":\"surface\"}],\"table\":[{\"cells\":{\"fill\":{\"color\":\"rgb(237,237,237)\"},\"line\":{\"color\":\"white\"}},\"header\":{\"fill\":{\"color\":\"rgb(217,217,217)\"},\"line\":{\"color\":\"white\"}},\"type\":\"table\"}]},\"layout\":{\"annotationdefaults\":{\"arrowhead\":0,\"arrowwidth\":1},\"autotypenumbers\":\"strict\",\"coloraxis\":{\"colorbar\":{\"outlinewidth\":1,\"tickcolor\":\"rgb(36,36,36)\",\"ticks\":\"outside\"}},\"colorscale\":{\"diverging\":[[0.0,\"rgb(103,0,31)\"],[0.1,\"rgb(178,24,43)\"],[0.2,\"rgb(214,96,77)\"],[0.3,\"rgb(244,165,130)\"],[0.4,\"rgb(253,219,199)\"],[0.5,\"rgb(247,247,247)\"],[0.6,\"rgb(209,229,240)\"],[0.7,\"rgb(146,197,222)\"],[0.8,\"rgb(67,147,195)\"],[0.9,\"rgb(33,102,172)\"],[1.0,\"rgb(5,48,97)\"]],\"sequential\":[[0.0,\"#440154\"],[0.1111111111111111,\"#482878\"],[0.2222222222222222,\"#3e4989\"],[0.3333333333333333,\"#31688e\"],[0.4444444444444444,\"#26828e\"],[0.5555555555555556,\"#1f9e89\"],[0.6666666666666666,\"#35b779\"],[0.7777777777777778,\"#6ece58\"],[0.8888888888888888,\"#b5de2b\"],[1.0,\"#fde725\"]],\"sequentialminus\":[[0.0,\"#440154\"],[0.1111111111111111,\"#482878\"],[0.2222222222222222,\"#3e4989\"],[0.3333333333333333,\"#31688e\"],[0.4444444444444444,\"#26828e\"],[0.5555555555555556,\"#1f9e89\"],[0.6666666666666666,\"#35b779\"],[0.7777777777777778,\"#6ece58\"],[0.8888888888888888,\"#b5de2b\"],[1.0,\"#fde725\"]]},\"colorway\":[\"#1F77B4\",\"#FF7F0E\",\"#2CA02C\",\"#D62728\",\"#9467BD\",\"#8C564B\",\"#E377C2\",\"#7F7F7F\",\"#BCBD22\",\"#17BECF\"],\"font\":{\"color\":\"rgb(36,36,36)\"},\"geo\":{\"bgcolor\":\"white\",\"lakecolor\":\"white\",\"landcolor\":\"white\",\"showlakes\":true,\"showland\":true,\"subunitcolor\":\"white\"},\"hoverlabel\":{\"align\":\"left\"},\"hovermode\":\"closest\",\"mapbox\":{\"style\":\"light\"},\"paper_bgcolor\":\"white\",\"plot_bgcolor\":\"white\",\"polar\":{\"angularaxis\":{\"gridcolor\":\"rgb(232,232,232)\",\"linecolor\":\"rgb(36,36,36)\",\"showgrid\":false,\"showline\":true,\"ticks\":\"outside\"},\"bgcolor\":\"white\",\"radialaxis\":{\"gridcolor\":\"rgb(232,232,232)\",\"linecolor\":\"rgb(36,36,36)\",\"showgrid\":false,\"showline\":true,\"ticks\":\"outside\"}},\"scene\":{\"xaxis\":{\"backgroundcolor\":\"white\",\"gridcolor\":\"rgb(232,232,232)\",\"gridwidth\":2,\"linecolor\":\"rgb(36,36,36)\",\"showbackground\":true,\"showgrid\":false,\"showline\":true,\"ticks\":\"outside\",\"zeroline\":false,\"zerolinecolor\":\"rgb(36,36,36)\"},\"yaxis\":{\"backgroundcolor\":\"white\",\"gridcolor\":\"rgb(232,232,232)\",\"gridwidth\":2,\"linecolor\":\"rgb(36,36,36)\",\"showbackground\":true,\"showgrid\":false,\"showline\":true,\"ticks\":\"outside\",\"zeroline\":false,\"zerolinecolor\":\"rgb(36,36,36)\"},\"zaxis\":{\"backgroundcolor\":\"white\",\"gridcolor\":\"rgb(232,232,232)\",\"gridwidth\":2,\"linecolor\":\"rgb(36,36,36)\",\"showbackground\":true,\"showgrid\":false,\"showline\":true,\"ticks\":\"outside\",\"zeroline\":false,\"zerolinecolor\":\"rgb(36,36,36)\"}},\"shapedefaults\":{\"fillcolor\":\"black\",\"line\":{\"width\":0},\"opacity\":0.3},\"ternary\":{\"aaxis\":{\"gridcolor\":\"rgb(232,232,232)\",\"linecolor\":\"rgb(36,36,36)\",\"showgrid\":false,\"showline\":true,\"ticks\":\"outside\"},\"baxis\":{\"gridcolor\":\"rgb(232,232,232)\",\"linecolor\":\"rgb(36,36,36)\",\"showgrid\":false,\"showline\":true,\"ticks\":\"outside\"},\"bgcolor\":\"white\",\"caxis\":{\"gridcolor\":\"rgb(232,232,232)\",\"linecolor\":\"rgb(36,36,36)\",\"showgrid\":false,\"showline\":true,\"ticks\":\"outside\"}},\"title\":{\"x\":0.05},\"xaxis\":{\"automargin\":true,\"gridcolor\":\"rgb(232,232,232)\",\"linecolor\":\"rgb(36,36,36)\",\"showgrid\":false,\"showline\":true,\"ticks\":\"outside\",\"title\":{\"standoff\":15},\"zeroline\":false,\"zerolinecolor\":\"rgb(36,36,36)\"},\"yaxis\":{\"automargin\":true,\"gridcolor\":\"rgb(232,232,232)\",\"linecolor\":\"rgb(36,36,36)\",\"showgrid\":false,\"showline\":true,\"ticks\":\"outside\",\"title\":{\"standoff\":15},\"zeroline\":false,\"zerolinecolor\":\"rgb(36,36,36)\"}}},\"title\":{\"text\":\"Average Life Expectancy and Social Support in Various World Regions\"},\"xaxis\":{\"anchor\":\"y\",\"categoryorder\":\"total descending\",\"domain\":[0.0,1.0],\"title\":{\"text\":\"Region\"}},\"yaxis\":{\"anchor\":\"x\",\"domain\":[0.0,1.0],\"title\":{\"text\":\"Life Expectancy\"}}},                        {\"responsive\": true}                    ).then(function(){\n",
       "                            \n",
       "var gd = document.getElementById('8594eeb3-501c-4e1d-80df-f408863261f1');\n",
       "var x = new MutationObserver(function (mutations, observer) {{\n",
       "        var display = window.getComputedStyle(gd).display;\n",
       "        if (!display || display === 'none') {{\n",
       "            console.log([gd, 'removed!']);\n",
       "            Plotly.purge(gd);\n",
       "            observer.disconnect();\n",
       "        }}\n",
       "}});\n",
       "\n",
       "// Listen for the removal of the full notebook cells\n",
       "var notebookContainer = gd.closest('#notebook-container');\n",
       "if (notebookContainer) {{\n",
       "    x.observe(notebookContainer, {childList: true});\n",
       "}}\n",
       "\n",
       "// Listen for the clearing of the current output cell\n",
       "var outputEl = gd.closest('.output');\n",
       "if (outputEl) {{\n",
       "    x.observe(outputEl, {childList: true});\n",
       "}}\n",
       "\n",
       "                        })                };                });            </script>        </div>"
      ]
     },
     "metadata": {},
     "output_type": "display_data"
    }
   ],
   "source": [
    "# making a huggggeee data frame\n",
    "df4 = pd.read_csv (r'C:\\Users\\Meena Krishnan\\Downloads\\world-happiness-report (1).csv') \n",
    "df5 = pd.read_csv (r'C:\\Users\\Meena Krishnan\\Downloads\\world-happiness-report-2021.csv')\n",
    "df4 = pd.DataFrame(df4, columns = ['Country name', 'year', 'Social support'])\n",
    "df5 = pd.DataFrame(df5, columns = ['Country name', 'Regional indicator', 'Healthy life expectancy'])\n",
    "best_df = pd.merge(df4, df5, on ='Country name', how ='inner')\n",
    "\n",
    "# getting rid of the countries, by combining their values into the region's mean\n",
    "best_df = pd.DataFrame(best_df, columns = ['Regional indicator', 'Healthy life expectancy', 'Social support'])\n",
    "best_df = best_df.rename(columns={\"Regional indicator\":\"region\", \"Healthy life expectancy\":\"life\", \"Social support\":\"soc_sup\"})\n",
    "best_df2 = best_df.groupby(['region'])['life'].mean()\n",
    "better_df = best_df.groupby(['region'])['soc_sup'].mean()\n",
    "best_df2 = best_df2.to_frame()\n",
    "better_df = better_df.to_frame()\n",
    "\n",
    "# creating the final data frame from scratch using the values\n",
    "d = {'region': ['Central and Eastern Europe', 'Commonwealth of Independent States', \n",
    "                'East Asia', 'Latin America and Caribbean', 'Middle East and North Africa', \n",
    "                'North America and ANZ', 'South Asia', 'Southeast Asia', 'Sub-Saharan Africa', \n",
    "                'Western Europe'], 'soc_sup': [0.854453, 0.828559, 0.849841, 0.850566, 0.789551, \n",
    "                                               0.939107, 0.654048, 0.809035, 0.714482, 0.917092], 'life': [68.306702, 65.059947, 71.234329, 67.209670, 65.779057,\n",
    "                                                                                                          72.279310, 61.643881, 65.214121, 56.031585, 73.005705]}\n",
    "cool_df = pd.DataFrame(data=d)\n",
    "\n",
    "# the bar graph\n",
    "bar_fig = px.bar(cool_df, x=\"region\", y=\"life\",\n",
    "             color='soc_sup', barmode='group',\n",
    "             height=500, template=\"simple_white\", labels={'life':'Life Expectancy', 'soc_sup':'Social Support Index', 'region':'Region'})\n",
    "bar_fig.update_traces(marker_line_color='rgb(0,0,0)', opacity=0.7)\n",
    "bar_fig.update_layout(title_text='Average Life Expectancy and Social Support in Various World Regions', \n",
    "                  barmode='stack', xaxis={'categoryorder':'total descending'})\n",
    "bar_fig.show()"
   ]
  },
  {
   "cell_type": "code",
   "execution_count": null,
   "id": "ea0a46a4",
   "metadata": {},
   "outputs": [],
   "source": []
  }
 ],
 "metadata": {
  "kernelspec": {
   "display_name": "Python 3 (ipykernel)",
   "language": "python",
   "name": "python3"
  },
  "language_info": {
   "codemirror_mode": {
    "name": "ipython",
    "version": 3
   },
   "file_extension": ".py",
   "mimetype": "text/x-python",
   "name": "python",
   "nbconvert_exporter": "python",
   "pygments_lexer": "ipython3",
   "version": "3.9.5"
  }
 },
 "nbformat": 4,
 "nbformat_minor": 5
}
